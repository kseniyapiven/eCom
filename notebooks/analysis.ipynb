{
 "cells": [
  {
   "cell_type": "markdown",
   "metadata": {},
   "source": [
    "## eCommerce Analytics – case study"
   ]
  },
  {
   "cell_type": "markdown",
   "metadata": {},
   "source": [
    "Loading the data using 'pandas' into a dataframe 'df'."
   ]
  },
  {
   "cell_type": "code",
   "execution_count": 169,
   "metadata": {},
   "outputs": [
    {
     "data": {
      "text/html": [
       "<div>\n",
       "<style scoped>\n",
       "    .dataframe tbody tr th:only-of-type {\n",
       "        vertical-align: middle;\n",
       "    }\n",
       "\n",
       "    .dataframe tbody tr th {\n",
       "        vertical-align: top;\n",
       "    }\n",
       "\n",
       "    .dataframe thead th {\n",
       "        text-align: right;\n",
       "    }\n",
       "</style>\n",
       "<table border=\"1\" class=\"dataframe\">\n",
       "  <thead>\n",
       "    <tr style=\"text-align: right;\">\n",
       "      <th></th>\n",
       "      <th>Product ID</th>\n",
       "      <th>Year-Week</th>\n",
       "      <th>Units Sold</th>\n",
       "      <th>Conversion %</th>\n",
       "      <th>Avg Sales Price</th>\n",
       "      <th>OOS%</th>\n",
       "    </tr>\n",
       "  </thead>\n",
       "  <tbody>\n",
       "    <tr>\n",
       "      <th>0</th>\n",
       "      <td>Pd3000</td>\n",
       "      <td>2024-01</td>\n",
       "      <td>157.0</td>\n",
       "      <td>0.027986</td>\n",
       "      <td>€ 113.51</td>\n",
       "      <td>0.0</td>\n",
       "    </tr>\n",
       "    <tr>\n",
       "      <th>1</th>\n",
       "      <td>Pd3000</td>\n",
       "      <td>2024-02</td>\n",
       "      <td>148.0</td>\n",
       "      <td>0.025708</td>\n",
       "      <td>€ 113.49</td>\n",
       "      <td>0.0</td>\n",
       "    </tr>\n",
       "    <tr>\n",
       "      <th>2</th>\n",
       "      <td>Pd3000</td>\n",
       "      <td>2024-03</td>\n",
       "      <td>98.0</td>\n",
       "      <td>0.015031</td>\n",
       "      <td>€ 113.49</td>\n",
       "      <td>0.0</td>\n",
       "    </tr>\n",
       "    <tr>\n",
       "      <th>3</th>\n",
       "      <td>Pd3000</td>\n",
       "      <td>2024-04</td>\n",
       "      <td>136.0</td>\n",
       "      <td>0.016185</td>\n",
       "      <td>€ 105.23</td>\n",
       "      <td>0.0</td>\n",
       "    </tr>\n",
       "    <tr>\n",
       "      <th>4</th>\n",
       "      <td>Pd3000</td>\n",
       "      <td>2024-05</td>\n",
       "      <td>143.0</td>\n",
       "      <td>0.019427</td>\n",
       "      <td>€ 106.67</td>\n",
       "      <td>0.0</td>\n",
       "    </tr>\n",
       "  </tbody>\n",
       "</table>\n",
       "</div>"
      ],
      "text/plain": [
       "  Product ID Year-Week  Units Sold  Conversion %  Avg Sales Price   OOS%\n",
       "0     Pd3000   2024-01       157.0      0.027986         € 113.51    0.0\n",
       "1     Pd3000   2024-02       148.0      0.025708         € 113.49    0.0\n",
       "2     Pd3000   2024-03        98.0      0.015031         € 113.49    0.0\n",
       "3     Pd3000   2024-04       136.0      0.016185         € 105.23    0.0\n",
       "4     Pd3000   2024-05       143.0      0.019427         € 106.67    0.0"
      ]
     },
     "execution_count": 169,
     "metadata": {},
     "output_type": "execute_result"
    }
   ],
   "source": [
    "import pandas as pd\n",
    "import numpy as np\n",
    "import os\n",
    "\n",
    "os.chdir('../data')\n",
    "db_path = '../data/eCommerce API dataset.csv'\n",
    "\n",
    "df = pd.read_csv(db_path)\n",
    "df.head()"
   ]
  },
  {
   "cell_type": "markdown",
   "metadata": {},
   "source": [
    "### Task 1\n",
    "#### A histogram showing the number of units sold for product \"Pd4000\" for the years 2024 and 2025\n",
    "\n",
    "I copy the original df and split the column 'Year-Week' and expand it by creating two separate columns for 'Year' and 'Week' respectively. The values are stored as integers."
   ]
  },
  {
   "cell_type": "code",
   "execution_count": 125,
   "metadata": {},
   "outputs": [
    {
     "data": {
      "text/html": [
       "<div>\n",
       "<style scoped>\n",
       "    .dataframe tbody tr th:only-of-type {\n",
       "        vertical-align: middle;\n",
       "    }\n",
       "\n",
       "    .dataframe tbody tr th {\n",
       "        vertical-align: top;\n",
       "    }\n",
       "\n",
       "    .dataframe thead th {\n",
       "        text-align: right;\n",
       "    }\n",
       "</style>\n",
       "<table border=\"1\" class=\"dataframe\">\n",
       "  <thead>\n",
       "    <tr style=\"text-align: right;\">\n",
       "      <th></th>\n",
       "      <th>Product ID</th>\n",
       "      <th>Year-Week</th>\n",
       "      <th>Units Sold</th>\n",
       "      <th>Conversion %</th>\n",
       "      <th>Avg Sales Price</th>\n",
       "      <th>OOS%</th>\n",
       "      <th>Year</th>\n",
       "      <th>Week</th>\n",
       "    </tr>\n",
       "  </thead>\n",
       "  <tbody>\n",
       "    <tr>\n",
       "      <th>0</th>\n",
       "      <td>Pd3000</td>\n",
       "      <td>2024-01</td>\n",
       "      <td>157.0</td>\n",
       "      <td>0.027986</td>\n",
       "      <td>€ 113.51</td>\n",
       "      <td>0.0</td>\n",
       "      <td>2024</td>\n",
       "      <td>1</td>\n",
       "    </tr>\n",
       "    <tr>\n",
       "      <th>1</th>\n",
       "      <td>Pd3000</td>\n",
       "      <td>2024-02</td>\n",
       "      <td>148.0</td>\n",
       "      <td>0.025708</td>\n",
       "      <td>€ 113.49</td>\n",
       "      <td>0.0</td>\n",
       "      <td>2024</td>\n",
       "      <td>2</td>\n",
       "    </tr>\n",
       "    <tr>\n",
       "      <th>2</th>\n",
       "      <td>Pd3000</td>\n",
       "      <td>2024-03</td>\n",
       "      <td>98.0</td>\n",
       "      <td>0.015031</td>\n",
       "      <td>€ 113.49</td>\n",
       "      <td>0.0</td>\n",
       "      <td>2024</td>\n",
       "      <td>3</td>\n",
       "    </tr>\n",
       "    <tr>\n",
       "      <th>3</th>\n",
       "      <td>Pd3000</td>\n",
       "      <td>2024-04</td>\n",
       "      <td>136.0</td>\n",
       "      <td>0.016185</td>\n",
       "      <td>€ 105.23</td>\n",
       "      <td>0.0</td>\n",
       "      <td>2024</td>\n",
       "      <td>4</td>\n",
       "    </tr>\n",
       "    <tr>\n",
       "      <th>4</th>\n",
       "      <td>Pd3000</td>\n",
       "      <td>2024-05</td>\n",
       "      <td>143.0</td>\n",
       "      <td>0.019427</td>\n",
       "      <td>€ 106.67</td>\n",
       "      <td>0.0</td>\n",
       "      <td>2024</td>\n",
       "      <td>5</td>\n",
       "    </tr>\n",
       "  </tbody>\n",
       "</table>\n",
       "</div>"
      ],
      "text/plain": [
       "  Product ID Year-Week  Units Sold  Conversion %  Avg Sales Price   OOS%  \\\n",
       "0     Pd3000   2024-01       157.0      0.027986         € 113.51    0.0   \n",
       "1     Pd3000   2024-02       148.0      0.025708         € 113.49    0.0   \n",
       "2     Pd3000   2024-03        98.0      0.015031         € 113.49    0.0   \n",
       "3     Pd3000   2024-04       136.0      0.016185         € 105.23    0.0   \n",
       "4     Pd3000   2024-05       143.0      0.019427         € 106.67    0.0   \n",
       "\n",
       "   Year  Week  \n",
       "0  2024     1  \n",
       "1  2024     2  \n",
       "2  2024     3  \n",
       "3  2024     4  \n",
       "4  2024     5  "
      ]
     },
     "execution_count": 125,
     "metadata": {},
     "output_type": "execute_result"
    }
   ],
   "source": [
    "analysis_df = df.copy()\n",
    "analysis_df[['Year', 'Week']] = analysis_df['Year-Week'].str.split('-', expand=True).astype(int)\n",
    "analysis_df.head()"
   ]
  },
  {
   "cell_type": "markdown",
   "metadata": {},
   "source": [
    "Now I am proceeding with plotting the histogram for product \"Pd4000\"."
   ]
  },
  {
   "cell_type": "markdown",
   "metadata": {},
   "source": [
    "### Task 2\n",
    "#### Year-on-Year Performance Comparison\n",
    "##### Total Sales\n",
    "\n",
    "First, we plot a total sales trend lines for each year. We would like to calculate the total sales as units_sold * avg_sales_price. I check the names of the columns below and rename for convenience."
   ]
  },
  {
   "cell_type": "code",
   "execution_count": 126,
   "metadata": {},
   "outputs": [
    {
     "name": "stdout",
     "output_type": "stream",
     "text": [
      "['Product ID', 'Year-Week', 'Units Sold', 'Conversion %', ' Avg Sales Price ', 'OOS%', 'Year', 'Week']\n"
     ]
    }
   ],
   "source": [
    "print(analysis_df.columns.tolist())\n",
    "\n",
    "analysis_df = analysis_df.rename(columns={' Avg Sales Price ': 'Avg Sales Price'})"
   ]
  },
  {
   "cell_type": "markdown",
   "metadata": {},
   "source": [
    "Converting prices into a simple float format for calculations:"
   ]
  },
  {
   "cell_type": "code",
   "execution_count": 127,
   "metadata": {},
   "outputs": [
    {
     "data": {
      "text/html": [
       "<div>\n",
       "<style scoped>\n",
       "    .dataframe tbody tr th:only-of-type {\n",
       "        vertical-align: middle;\n",
       "    }\n",
       "\n",
       "    .dataframe tbody tr th {\n",
       "        vertical-align: top;\n",
       "    }\n",
       "\n",
       "    .dataframe thead th {\n",
       "        text-align: right;\n",
       "    }\n",
       "</style>\n",
       "<table border=\"1\" class=\"dataframe\">\n",
       "  <thead>\n",
       "    <tr style=\"text-align: right;\">\n",
       "      <th></th>\n",
       "      <th>Product ID</th>\n",
       "      <th>Year-Week</th>\n",
       "      <th>Units Sold</th>\n",
       "      <th>Conversion %</th>\n",
       "      <th>Avg Sales Price</th>\n",
       "      <th>OOS%</th>\n",
       "      <th>Year</th>\n",
       "      <th>Week</th>\n",
       "    </tr>\n",
       "  </thead>\n",
       "  <tbody>\n",
       "    <tr>\n",
       "      <th>0</th>\n",
       "      <td>Pd3000</td>\n",
       "      <td>2024-01</td>\n",
       "      <td>157.0</td>\n",
       "      <td>0.027986</td>\n",
       "      <td>113.51</td>\n",
       "      <td>0.0</td>\n",
       "      <td>2024</td>\n",
       "      <td>1</td>\n",
       "    </tr>\n",
       "    <tr>\n",
       "      <th>1</th>\n",
       "      <td>Pd3000</td>\n",
       "      <td>2024-02</td>\n",
       "      <td>148.0</td>\n",
       "      <td>0.025708</td>\n",
       "      <td>113.49</td>\n",
       "      <td>0.0</td>\n",
       "      <td>2024</td>\n",
       "      <td>2</td>\n",
       "    </tr>\n",
       "    <tr>\n",
       "      <th>2</th>\n",
       "      <td>Pd3000</td>\n",
       "      <td>2024-03</td>\n",
       "      <td>98.0</td>\n",
       "      <td>0.015031</td>\n",
       "      <td>113.49</td>\n",
       "      <td>0.0</td>\n",
       "      <td>2024</td>\n",
       "      <td>3</td>\n",
       "    </tr>\n",
       "    <tr>\n",
       "      <th>3</th>\n",
       "      <td>Pd3000</td>\n",
       "      <td>2024-04</td>\n",
       "      <td>136.0</td>\n",
       "      <td>0.016185</td>\n",
       "      <td>105.23</td>\n",
       "      <td>0.0</td>\n",
       "      <td>2024</td>\n",
       "      <td>4</td>\n",
       "    </tr>\n",
       "    <tr>\n",
       "      <th>4</th>\n",
       "      <td>Pd3000</td>\n",
       "      <td>2024-05</td>\n",
       "      <td>143.0</td>\n",
       "      <td>0.019427</td>\n",
       "      <td>106.67</td>\n",
       "      <td>0.0</td>\n",
       "      <td>2024</td>\n",
       "      <td>5</td>\n",
       "    </tr>\n",
       "  </tbody>\n",
       "</table>\n",
       "</div>"
      ],
      "text/plain": [
       "  Product ID Year-Week  Units Sold  Conversion %  Avg Sales Price  OOS%  Year  \\\n",
       "0     Pd3000   2024-01       157.0      0.027986           113.51   0.0  2024   \n",
       "1     Pd3000   2024-02       148.0      0.025708           113.49   0.0  2024   \n",
       "2     Pd3000   2024-03        98.0      0.015031           113.49   0.0  2024   \n",
       "3     Pd3000   2024-04       136.0      0.016185           105.23   0.0  2024   \n",
       "4     Pd3000   2024-05       143.0      0.019427           106.67   0.0  2024   \n",
       "\n",
       "   Week  \n",
       "0     1  \n",
       "1     2  \n",
       "2     3  \n",
       "3     4  \n",
       "4     5  "
      ]
     },
     "execution_count": 127,
     "metadata": {},
     "output_type": "execute_result"
    }
   ],
   "source": [
    "analysis_df['Avg Sales Price'] = analysis_df['Avg Sales Price'].str.replace('€', '').str.strip().astype(float)\n",
    "analysis_df.head()"
   ]
  },
  {
   "cell_type": "markdown",
   "metadata": {},
   "source": [
    "Calculating total sales into its own column:"
   ]
  },
  {
   "cell_type": "code",
   "execution_count": 128,
   "metadata": {},
   "outputs": [
    {
     "data": {
      "text/html": [
       "<div>\n",
       "<style scoped>\n",
       "    .dataframe tbody tr th:only-of-type {\n",
       "        vertical-align: middle;\n",
       "    }\n",
       "\n",
       "    .dataframe tbody tr th {\n",
       "        vertical-align: top;\n",
       "    }\n",
       "\n",
       "    .dataframe thead th {\n",
       "        text-align: right;\n",
       "    }\n",
       "</style>\n",
       "<table border=\"1\" class=\"dataframe\">\n",
       "  <thead>\n",
       "    <tr style=\"text-align: right;\">\n",
       "      <th></th>\n",
       "      <th>Product ID</th>\n",
       "      <th>Year-Week</th>\n",
       "      <th>Units Sold</th>\n",
       "      <th>Conversion %</th>\n",
       "      <th>Avg Sales Price</th>\n",
       "      <th>OOS%</th>\n",
       "      <th>Year</th>\n",
       "      <th>Week</th>\n",
       "      <th>Total Sales</th>\n",
       "    </tr>\n",
       "  </thead>\n",
       "  <tbody>\n",
       "    <tr>\n",
       "      <th>0</th>\n",
       "      <td>Pd3000</td>\n",
       "      <td>2024-01</td>\n",
       "      <td>157.0</td>\n",
       "      <td>0.027986</td>\n",
       "      <td>113.51</td>\n",
       "      <td>0.0</td>\n",
       "      <td>2024</td>\n",
       "      <td>1</td>\n",
       "      <td>17821.07</td>\n",
       "    </tr>\n",
       "    <tr>\n",
       "      <th>1</th>\n",
       "      <td>Pd3000</td>\n",
       "      <td>2024-02</td>\n",
       "      <td>148.0</td>\n",
       "      <td>0.025708</td>\n",
       "      <td>113.49</td>\n",
       "      <td>0.0</td>\n",
       "      <td>2024</td>\n",
       "      <td>2</td>\n",
       "      <td>16796.52</td>\n",
       "    </tr>\n",
       "    <tr>\n",
       "      <th>2</th>\n",
       "      <td>Pd3000</td>\n",
       "      <td>2024-03</td>\n",
       "      <td>98.0</td>\n",
       "      <td>0.015031</td>\n",
       "      <td>113.49</td>\n",
       "      <td>0.0</td>\n",
       "      <td>2024</td>\n",
       "      <td>3</td>\n",
       "      <td>11122.02</td>\n",
       "    </tr>\n",
       "    <tr>\n",
       "      <th>3</th>\n",
       "      <td>Pd3000</td>\n",
       "      <td>2024-04</td>\n",
       "      <td>136.0</td>\n",
       "      <td>0.016185</td>\n",
       "      <td>105.23</td>\n",
       "      <td>0.0</td>\n",
       "      <td>2024</td>\n",
       "      <td>4</td>\n",
       "      <td>14311.28</td>\n",
       "    </tr>\n",
       "    <tr>\n",
       "      <th>4</th>\n",
       "      <td>Pd3000</td>\n",
       "      <td>2024-05</td>\n",
       "      <td>143.0</td>\n",
       "      <td>0.019427</td>\n",
       "      <td>106.67</td>\n",
       "      <td>0.0</td>\n",
       "      <td>2024</td>\n",
       "      <td>5</td>\n",
       "      <td>15253.81</td>\n",
       "    </tr>\n",
       "  </tbody>\n",
       "</table>\n",
       "</div>"
      ],
      "text/plain": [
       "  Product ID Year-Week  Units Sold  Conversion %  Avg Sales Price  OOS%  Year  \\\n",
       "0     Pd3000   2024-01       157.0      0.027986           113.51   0.0  2024   \n",
       "1     Pd3000   2024-02       148.0      0.025708           113.49   0.0  2024   \n",
       "2     Pd3000   2024-03        98.0      0.015031           113.49   0.0  2024   \n",
       "3     Pd3000   2024-04       136.0      0.016185           105.23   0.0  2024   \n",
       "4     Pd3000   2024-05       143.0      0.019427           106.67   0.0  2024   \n",
       "\n",
       "   Week  Total Sales  \n",
       "0     1     17821.07  \n",
       "1     2     16796.52  \n",
       "2     3     11122.02  \n",
       "3     4     14311.28  \n",
       "4     5     15253.81  "
      ]
     },
     "execution_count": 128,
     "metadata": {},
     "output_type": "execute_result"
    }
   ],
   "source": [
    "analysis_df['Total Sales'] = analysis_df['Units Sold'] * analysis_df['Avg Sales Price']\n",
    "analysis_df.head()"
   ]
  },
  {
   "cell_type": "markdown",
   "metadata": {},
   "source": [
    "Checking for NaNs:"
   ]
  },
  {
   "cell_type": "code",
   "execution_count": 129,
   "metadata": {},
   "outputs": [
    {
     "name": "stdout",
     "output_type": "stream",
     "text": [
      "Number of NaN values in Total Sales: 289\n"
     ]
    }
   ],
   "source": [
    "nan_count = analysis_df['Total Sales'].isna().sum()\n",
    "print(f\"Number of NaN values in Total Sales: {nan_count}\")"
   ]
  },
  {
   "cell_type": "code",
   "execution_count": 130,
   "metadata": {},
   "outputs": [
    {
     "name": "stdout",
     "output_type": "stream",
     "text": [
      "Weeks with NaN in data:\n",
      "    Year  Week  NaN_Count\n",
      "0   2024     3          1\n",
      "1   2024     4          1\n",
      "2   2024     7          1\n",
      "3   2024     8          1\n",
      "4   2024     9          1\n",
      "..   ...   ...        ...\n",
      "78  2025    49          7\n",
      "79  2025    50          5\n",
      "80  2025    51          5\n",
      "81  2025    52          6\n",
      "82  2026     1          5\n",
      "\n",
      "[83 rows x 3 columns]\n"
     ]
    }
   ],
   "source": [
    "# Count NaN-containing rows per week BEFORE aggregation\n",
    "nan_weeks = analysis_df[analysis_df['Total Sales'].isna()]\\\n",
    "             .groupby(['Year', 'Week']).size().reset_index(name='NaN_Count')\n",
    "\n",
    "print(\"Weeks with NaN in data:\")\n",
    "print(nan_weeks)"
   ]
  },
  {
   "cell_type": "code",
   "execution_count": 131,
   "metadata": {},
   "outputs": [
    {
     "name": "stdout",
     "output_type": "stream",
     "text": [
      "9\n"
     ]
    }
   ],
   "source": [
    "num_products = analysis_df['Product ID'].nunique()\n",
    "print(num_products)"
   ]
  },
  {
   "cell_type": "markdown",
   "metadata": {},
   "source": [
    "Next, we are summing up the total sales across all products for each week within the year ((the NaN values are ignored by sum())). We also calculate ahead the average OOS% for each week."
   ]
  },
  {
   "cell_type": "code",
   "execution_count": 132,
   "metadata": {},
   "outputs": [
    {
     "name": "stdout",
     "output_type": "stream",
     "text": [
      "     Year  Week  Total Sales      OOS%\n",
      "0    2024     1     25576.96  0.186560\n",
      "1    2024     2     33273.76  0.176080\n",
      "2    2024     3     30668.67  0.227520\n",
      "3    2024     4     31497.58  0.021575\n",
      "4    2024     5     40820.77  0.182120\n",
      "..    ...   ...          ...       ...\n",
      "100  2025    49         0.00       NaN\n",
      "101  2025    50         0.00       NaN\n",
      "102  2025    51         0.00       NaN\n",
      "103  2025    52         0.00       NaN\n",
      "104  2026     1         0.00       NaN\n",
      "\n",
      "[105 rows x 4 columns]\n"
     ]
    }
   ],
   "source": [
    "agg_df = analysis_df.groupby(['Year', 'Week']).agg({\n",
    "    'Total Sales': 'sum',\n",
    "    'OOS%': 'mean'\n",
    "}).reset_index()\n",
    "\n",
    "print(agg_df)\n"
   ]
  },
  {
   "cell_type": "markdown",
   "metadata": {},
   "source": [
    "Plotting the trend lines:"
   ]
  },
  {
   "cell_type": "code",
   "execution_count": 133,
   "metadata": {},
   "outputs": [
    {
     "data": {
      "image/png": "[encoded data removed]",
      "text/plain": [
       "<Figure size 1400x700 with 1 Axes>"
      ]
     },
     "metadata": {},
     "output_type": "display_data"
    }
   ],
   "source": [
    "import seaborn as sns\n",
    "import matplotlib.pyplot as plt\n",
    "\n",
    "plt.figure(figsize=(14, 7))\n",
    "\n",
    "sns.lineplot(\n",
    "    data=agg_df,\n",
    "    x='Week',\n",
    "    y='Total Sales',\n",
    "    hue='Year',\n",
    "    style='Year',\n",
    "    palette='bright', \n",
    "    markers=True,  \n",
    "    markersize=8,\n",
    "    linewidth=2,\n",
    "    estimator=None \n",
    ")\n",
    "\n",
    "# Customize the plot\n",
    "plt.title('Weekly Total Sales Trend by Year', fontsize=14, pad=20)\n",
    "plt.xlabel('Week Number', fontsize=12)\n",
    "plt.ylabel('Total Sales (€)', fontsize=12)\n",
    "plt.xticks(range(1, 53))  # 52 weeks\n",
    "plt.xlim(1, 53)  \n",
    "plt.grid(axis='y', alpha=0.3)\n",
    "\n",
    "sns.despine()\n",
    "plt.tight_layout()\n",
    "plt.show()"
   ]
  },
  {
   "cell_type": "markdown",
   "metadata": {},
   "source": [
    "##### OOS%\n",
    "\n",
    "We are using the previously calculated average OOS% to plot the trend lines."
   ]
  },
  {
   "cell_type": "code",
   "execution_count": 134,
   "metadata": {},
   "outputs": [
    {
     "data": {
      "image/png": "[encoded data removed]",
      "text/plain": [
       "<Figure size 1400x700 with 1 Axes>"
      ]
     },
     "metadata": {},
     "output_type": "display_data"
    }
   ],
   "source": [
    "import seaborn as sns\n",
    "import matplotlib.pyplot as plt\n",
    "\n",
    "plt.figure(figsize=(14, 7))\n",
    "\n",
    "sns.lineplot(\n",
    "    data=agg_df,\n",
    "    x='Week',\n",
    "    y='OOS%',\n",
    "    hue='Year',\n",
    "    style='Year',\n",
    "    palette='bright', \n",
    "    markers=True,  \n",
    "    markersize=8,\n",
    "    linewidth=2,\n",
    "    estimator=None\n",
    ")\n",
    "\n",
    "plt.title('Weekly Average OOS% Trend by Year', fontsize=14, pad=20)\n",
    "plt.xlabel('Week Number', fontsize=12)\n",
    "plt.ylabel('Average OOS%', fontsize=12)\n",
    "plt.xticks(range(1, 53))  # 52 weeks\n",
    "plt.xlim(1, 53) \n",
    "plt.grid(axis='y', alpha=0.3)\n",
    "\n",
    "sns.despine()\n",
    "plt.tight_layout()\n",
    "plt.show()"
   ]
  },
  {
   "cell_type": "markdown",
   "metadata": {},
   "source": [
    "### Task 3\n",
    "#### Product Sales Ranking\n",
    "\n",
    "We will add a separate 'Rank' column to the dataframe that contains total sales for each product."
   ]
  },
  {
   "cell_type": "code",
   "execution_count": null,
   "metadata": {},
   "outputs": [
    {
     "data": {
      "text/html": [
       "<div>\n",
       "<style scoped>\n",
       "    .dataframe tbody tr th:only-of-type {\n",
       "        vertical-align: middle;\n",
       "    }\n",
       "\n",
       "    .dataframe tbody tr th {\n",
       "        vertical-align: top;\n",
       "    }\n",
       "\n",
       "    .dataframe thead th {\n",
       "        text-align: right;\n",
       "    }\n",
       "</style>\n",
       "<table border=\"1\" class=\"dataframe\">\n",
       "  <thead>\n",
       "    <tr style=\"text-align: right;\">\n",
       "      <th></th>\n",
       "      <th>Year</th>\n",
       "      <th>Product ID</th>\n",
       "      <th>Total Sales</th>\n",
       "      <th>Rank</th>\n",
       "    </tr>\n",
       "  </thead>\n",
       "  <tbody>\n",
       "    <tr>\n",
       "      <th>0</th>\n",
       "      <td>2024</td>\n",
       "      <td>Pd1000</td>\n",
       "      <td>775150.10</td>\n",
       "      <td>1</td>\n",
       "    </tr>\n",
       "    <tr>\n",
       "      <th>1</th>\n",
       "      <td>2024</td>\n",
       "      <td>Pd2000</td>\n",
       "      <td>482791.55</td>\n",
       "      <td>2</td>\n",
       "    </tr>\n",
       "    <tr>\n",
       "      <th>2</th>\n",
       "      <td>2024</td>\n",
       "      <td>Pd3000</td>\n",
       "      <td>324678.87</td>\n",
       "      <td>4</td>\n",
       "    </tr>\n",
       "    <tr>\n",
       "      <th>3</th>\n",
       "      <td>2024</td>\n",
       "      <td>Pd4000</td>\n",
       "      <td>371548.02</td>\n",
       "      <td>3</td>\n",
       "    </tr>\n",
       "    <tr>\n",
       "      <th>4</th>\n",
       "      <td>2024</td>\n",
       "      <td>Pd5000</td>\n",
       "      <td>317029.71</td>\n",
       "      <td>5</td>\n",
       "    </tr>\n",
       "  </tbody>\n",
       "</table>\n",
       "</div>"
      ],
      "text/plain": [
       "   Year Product ID  Total Sales  Rank\n",
       "0  2024     Pd1000    775150.10     1\n",
       "1  2024     Pd2000    482791.55     2\n",
       "2  2024     Pd3000    324678.87     4\n",
       "3  2024     Pd4000    371548.02     3\n",
       "4  2024     Pd5000    317029.71     5"
      ]
     },
     "execution_count": 139,
     "metadata": {},
     "output_type": "execute_result"
    }
   ],
   "source": [
    "\n",
    "product_sales = analysis_df.groupby(['Year', 'Product ID'])['Total Sales'].sum().reset_index()\n",
    "\n",
    "product_sales['Rank'] = product_sales.groupby('Year')['Total Sales'] \\\n",
    "                                   .rank(ascending=False, method='min').astype(int)\n",
    "\n",
    "product_sales.head()"
   ]
  },
  {
   "cell_type": "markdown",
   "metadata": {},
   "source": [
    "Then, we sort based on the rank and display the rank, the product id, and the total sales."
   ]
  },
  {
   "cell_type": "code",
   "execution_count": null,
   "metadata": {},
   "outputs": [],
   "source": [
    "ranked_2024 = product_sales[product_sales['Year'] == 2024] \\\n",
    "             .sort_values('Rank') \\\n",
    "             [['Rank', 'Product ID', 'Total Sales']]\n",
    "\n",
    "ranked_2025 = product_sales[product_sales['Year'] == 2025] \\\n",
    "             .sort_values('Rank') \\\n",
    "             [['Rank', 'Product ID', 'Total Sales']]\n",
    "\n",
    "def format_sales(df):\n",
    "    df = df.copy()\n",
    "    df['Total Sales'] = df['Total Sales'].apply(lambda x: f\"€{x:,.2f}\")\n",
    "    return df\n",
    "\n"
   ]
  },
  {
   "cell_type": "markdown",
   "metadata": {},
   "source": [
    "The results are displayed below.\n",
    "The best products of 2024:"
   ]
  },
  {
   "cell_type": "code",
   "execution_count": 148,
   "metadata": {},
   "outputs": [
    {
     "data": {
      "text/html": [
       "<style type=\"text/css\">\n",
       "</style>\n",
       "<table id=\"T_54e29\">\n",
       "  <thead>\n",
       "    <tr>\n",
       "      <th id=\"T_54e29_level0_col0\" class=\"col_heading level0 col0\" >Rank</th>\n",
       "      <th id=\"T_54e29_level0_col1\" class=\"col_heading level0 col1\" >Product ID</th>\n",
       "      <th id=\"T_54e29_level0_col2\" class=\"col_heading level0 col2\" >Total Sales</th>\n",
       "    </tr>\n",
       "  </thead>\n",
       "  <tbody>\n",
       "    <tr>\n",
       "      <td id=\"T_54e29_row0_col0\" class=\"data row0 col0\" >1</td>\n",
       "      <td id=\"T_54e29_row0_col1\" class=\"data row0 col1\" >Pd1000</td>\n",
       "      <td id=\"T_54e29_row0_col2\" class=\"data row0 col2\" >€775,150.10</td>\n",
       "    </tr>\n",
       "    <tr>\n",
       "      <td id=\"T_54e29_row1_col0\" class=\"data row1 col0\" >2</td>\n",
       "      <td id=\"T_54e29_row1_col1\" class=\"data row1 col1\" >Pd2000</td>\n",
       "      <td id=\"T_54e29_row1_col2\" class=\"data row1 col2\" >€482,791.55</td>\n",
       "    </tr>\n",
       "    <tr>\n",
       "      <td id=\"T_54e29_row2_col0\" class=\"data row2 col0\" >3</td>\n",
       "      <td id=\"T_54e29_row2_col1\" class=\"data row2 col1\" >Pd4000</td>\n",
       "      <td id=\"T_54e29_row2_col2\" class=\"data row2 col2\" >€371,548.02</td>\n",
       "    </tr>\n",
       "    <tr>\n",
       "      <td id=\"T_54e29_row3_col0\" class=\"data row3 col0\" >4</td>\n",
       "      <td id=\"T_54e29_row3_col1\" class=\"data row3 col1\" >Pd3000</td>\n",
       "      <td id=\"T_54e29_row3_col2\" class=\"data row3 col2\" >€324,678.87</td>\n",
       "    </tr>\n",
       "    <tr>\n",
       "      <td id=\"T_54e29_row4_col0\" class=\"data row4 col0\" >5</td>\n",
       "      <td id=\"T_54e29_row4_col1\" class=\"data row4 col1\" >Pd5000</td>\n",
       "      <td id=\"T_54e29_row4_col2\" class=\"data row4 col2\" >€317,029.71</td>\n",
       "    </tr>\n",
       "    <tr>\n",
       "      <td id=\"T_54e29_row5_col0\" class=\"data row5 col0\" >6</td>\n",
       "      <td id=\"T_54e29_row5_col1\" class=\"data row5 col1\" >Pd9000</td>\n",
       "      <td id=\"T_54e29_row5_col2\" class=\"data row5 col2\" >€30,281.12</td>\n",
       "    </tr>\n",
       "    <tr>\n",
       "      <td id=\"T_54e29_row6_col0\" class=\"data row6 col0\" >7</td>\n",
       "      <td id=\"T_54e29_row6_col1\" class=\"data row6 col1\" >Pd6000</td>\n",
       "      <td id=\"T_54e29_row6_col2\" class=\"data row6 col2\" >€21,219.76</td>\n",
       "    </tr>\n",
       "    <tr>\n",
       "      <td id=\"T_54e29_row7_col0\" class=\"data row7 col0\" >8</td>\n",
       "      <td id=\"T_54e29_row7_col1\" class=\"data row7 col1\" >Pd7000</td>\n",
       "      <td id=\"T_54e29_row7_col2\" class=\"data row7 col2\" >€20,442.47</td>\n",
       "    </tr>\n",
       "    <tr>\n",
       "      <td id=\"T_54e29_row8_col0\" class=\"data row8 col0\" >9</td>\n",
       "      <td id=\"T_54e29_row8_col1\" class=\"data row8 col1\" >Pd8000</td>\n",
       "      <td id=\"T_54e29_row8_col2\" class=\"data row8 col2\" >€3,895.23</td>\n",
       "    </tr>\n",
       "  </tbody>\n",
       "</table>\n"
      ],
      "text/plain": [
       "<pandas.io.formats.style.Styler at 0x11f1f5fa0>"
      ]
     },
     "metadata": {},
     "output_type": "display_data"
    }
   ],
   "source": [
    "from IPython.display import display\n",
    "\n",
    "display(format_sales(ranked_2024).style.hide(axis='index'))\n"
   ]
  },
  {
   "cell_type": "markdown",
   "metadata": {},
   "source": [
    "The best products of 2025:"
   ]
  },
  {
   "cell_type": "code",
   "execution_count": 149,
   "metadata": {},
   "outputs": [
    {
     "data": {
      "text/html": [
       "<style type=\"text/css\">\n",
       "</style>\n",
       "<table id=\"T_e1cc4\">\n",
       "  <thead>\n",
       "    <tr>\n",
       "      <th id=\"T_e1cc4_level0_col0\" class=\"col_heading level0 col0\" >Rank</th>\n",
       "      <th id=\"T_e1cc4_level0_col1\" class=\"col_heading level0 col1\" >Product ID</th>\n",
       "      <th id=\"T_e1cc4_level0_col2\" class=\"col_heading level0 col2\" >Total Sales</th>\n",
       "    </tr>\n",
       "  </thead>\n",
       "  <tbody>\n",
       "    <tr>\n",
       "      <td id=\"T_e1cc4_row0_col0\" class=\"data row0 col0\" >1</td>\n",
       "      <td id=\"T_e1cc4_row0_col1\" class=\"data row0 col1\" >Pd2000</td>\n",
       "      <td id=\"T_e1cc4_row0_col2\" class=\"data row0 col2\" >€443,635.03</td>\n",
       "    </tr>\n",
       "    <tr>\n",
       "      <td id=\"T_e1cc4_row1_col0\" class=\"data row1 col0\" >2</td>\n",
       "      <td id=\"T_e1cc4_row1_col1\" class=\"data row1 col1\" >Pd1000</td>\n",
       "      <td id=\"T_e1cc4_row1_col2\" class=\"data row1 col2\" >€217,527.17</td>\n",
       "    </tr>\n",
       "    <tr>\n",
       "      <td id=\"T_e1cc4_row2_col0\" class=\"data row2 col0\" >3</td>\n",
       "      <td id=\"T_e1cc4_row2_col1\" class=\"data row2 col1\" >Pd4000</td>\n",
       "      <td id=\"T_e1cc4_row2_col2\" class=\"data row2 col2\" >€180,660.74</td>\n",
       "    </tr>\n",
       "    <tr>\n",
       "      <td id=\"T_e1cc4_row3_col0\" class=\"data row3 col0\" >4</td>\n",
       "      <td id=\"T_e1cc4_row3_col1\" class=\"data row3 col1\" >Pd5000</td>\n",
       "      <td id=\"T_e1cc4_row3_col2\" class=\"data row3 col2\" >€118,710.84</td>\n",
       "    </tr>\n",
       "    <tr>\n",
       "      <td id=\"T_e1cc4_row4_col0\" class=\"data row4 col0\" >5</td>\n",
       "      <td id=\"T_e1cc4_row4_col1\" class=\"data row4 col1\" >Pd9000</td>\n",
       "      <td id=\"T_e1cc4_row4_col2\" class=\"data row4 col2\" >€115,536.05</td>\n",
       "    </tr>\n",
       "    <tr>\n",
       "      <td id=\"T_e1cc4_row5_col0\" class=\"data row5 col0\" >6</td>\n",
       "      <td id=\"T_e1cc4_row5_col1\" class=\"data row5 col1\" >Pd3000</td>\n",
       "      <td id=\"T_e1cc4_row5_col2\" class=\"data row5 col2\" >€59,714.24</td>\n",
       "    </tr>\n",
       "    <tr>\n",
       "      <td id=\"T_e1cc4_row6_col0\" class=\"data row6 col0\" >7</td>\n",
       "      <td id=\"T_e1cc4_row6_col1\" class=\"data row6 col1\" >Pd7000</td>\n",
       "      <td id=\"T_e1cc4_row6_col2\" class=\"data row6 col2\" >€40,430.35</td>\n",
       "    </tr>\n",
       "    <tr>\n",
       "      <td id=\"T_e1cc4_row7_col0\" class=\"data row7 col0\" >8</td>\n",
       "      <td id=\"T_e1cc4_row7_col1\" class=\"data row7 col1\" >Pd8000</td>\n",
       "      <td id=\"T_e1cc4_row7_col2\" class=\"data row7 col2\" >€36,070.29</td>\n",
       "    </tr>\n",
       "    <tr>\n",
       "      <td id=\"T_e1cc4_row8_col0\" class=\"data row8 col0\" >9</td>\n",
       "      <td id=\"T_e1cc4_row8_col1\" class=\"data row8 col1\" >Pd6000</td>\n",
       "      <td id=\"T_e1cc4_row8_col2\" class=\"data row8 col2\" >€33,220.15</td>\n",
       "    </tr>\n",
       "  </tbody>\n",
       "</table>\n"
      ],
      "text/plain": [
       "<pandas.io.formats.style.Styler at 0x11f57a5d0>"
      ]
     },
     "metadata": {},
     "output_type": "display_data"
    }
   ],
   "source": [
    "display(format_sales(ranked_2025).style.hide(axis='index'))"
   ]
  },
  {
   "cell_type": "markdown",
   "metadata": {},
   "source": [
    "#### Adding conversion% and traffic\n",
    "\n",
    "We need to calculate the traffic using Traffic = Units Sold / Conversion%. We will drop the entries where the conversion rate is not given or zero, in which case the traffic cannot be calculated."
   ]
  },
  {
   "cell_type": "code",
   "execution_count": 297,
   "metadata": {},
   "outputs": [
    {
     "data": {
      "text/html": [
       "<div>\n",
       "<style scoped>\n",
       "    .dataframe tbody tr th:only-of-type {\n",
       "        vertical-align: middle;\n",
       "    }\n",
       "\n",
       "    .dataframe tbody tr th {\n",
       "        vertical-align: top;\n",
       "    }\n",
       "\n",
       "    .dataframe thead th {\n",
       "        text-align: right;\n",
       "    }\n",
       "</style>\n",
       "<table border=\"1\" class=\"dataframe\">\n",
       "  <thead>\n",
       "    <tr style=\"text-align: right;\">\n",
       "      <th></th>\n",
       "      <th>Product ID</th>\n",
       "      <th>Year-Week</th>\n",
       "      <th>Units Sold</th>\n",
       "      <th>Conversion %</th>\n",
       "      <th>Avg Sales Price</th>\n",
       "      <th>OOS%</th>\n",
       "      <th>Year</th>\n",
       "      <th>Week</th>\n",
       "      <th>Total Sales</th>\n",
       "      <th>Traffic</th>\n",
       "    </tr>\n",
       "  </thead>\n",
       "  <tbody>\n",
       "    <tr>\n",
       "      <th>0</th>\n",
       "      <td>Pd3000</td>\n",
       "      <td>2024-01</td>\n",
       "      <td>157.0</td>\n",
       "      <td>0.027986</td>\n",
       "      <td>113.51</td>\n",
       "      <td>0.0</td>\n",
       "      <td>2024</td>\n",
       "      <td>1</td>\n",
       "      <td>17821.07</td>\n",
       "      <td>5610</td>\n",
       "    </tr>\n",
       "    <tr>\n",
       "      <th>1</th>\n",
       "      <td>Pd3000</td>\n",
       "      <td>2024-02</td>\n",
       "      <td>148.0</td>\n",
       "      <td>0.025708</td>\n",
       "      <td>113.49</td>\n",
       "      <td>0.0</td>\n",
       "      <td>2024</td>\n",
       "      <td>2</td>\n",
       "      <td>16796.52</td>\n",
       "      <td>5757</td>\n",
       "    </tr>\n",
       "    <tr>\n",
       "      <th>2</th>\n",
       "      <td>Pd3000</td>\n",
       "      <td>2024-03</td>\n",
       "      <td>98.0</td>\n",
       "      <td>0.015031</td>\n",
       "      <td>113.49</td>\n",
       "      <td>0.0</td>\n",
       "      <td>2024</td>\n",
       "      <td>3</td>\n",
       "      <td>11122.02</td>\n",
       "      <td>6520</td>\n",
       "    </tr>\n",
       "    <tr>\n",
       "      <th>3</th>\n",
       "      <td>Pd3000</td>\n",
       "      <td>2024-04</td>\n",
       "      <td>136.0</td>\n",
       "      <td>0.016185</td>\n",
       "      <td>105.23</td>\n",
       "      <td>0.0</td>\n",
       "      <td>2024</td>\n",
       "      <td>4</td>\n",
       "      <td>14311.28</td>\n",
       "      <td>8403</td>\n",
       "    </tr>\n",
       "    <tr>\n",
       "      <th>4</th>\n",
       "      <td>Pd3000</td>\n",
       "      <td>2024-05</td>\n",
       "      <td>143.0</td>\n",
       "      <td>0.019427</td>\n",
       "      <td>106.67</td>\n",
       "      <td>0.0</td>\n",
       "      <td>2024</td>\n",
       "      <td>5</td>\n",
       "      <td>15253.81</td>\n",
       "      <td>7361</td>\n",
       "    </tr>\n",
       "  </tbody>\n",
       "</table>\n",
       "</div>"
      ],
      "text/plain": [
       "  Product ID Year-Week  Units Sold  Conversion %  Avg Sales Price  OOS%  Year  \\\n",
       "0     Pd3000   2024-01       157.0      0.027986           113.51   0.0  2024   \n",
       "1     Pd3000   2024-02       148.0      0.025708           113.49   0.0  2024   \n",
       "2     Pd3000   2024-03        98.0      0.015031           113.49   0.0  2024   \n",
       "3     Pd3000   2024-04       136.0      0.016185           105.23   0.0  2024   \n",
       "4     Pd3000   2024-05       143.0      0.019427           106.67   0.0  2024   \n",
       "\n",
       "   Week  Total Sales  Traffic  \n",
       "0     1     17821.07     5610  \n",
       "1     2     16796.52     5757  \n",
       "2     3     11122.02     6520  \n",
       "3     4     14311.28     8403  \n",
       "4     5     15253.81     7361  "
      ]
     },
     "execution_count": 297,
     "metadata": {},
     "output_type": "execute_result"
    }
   ],
   "source": [
    "valid_df = analysis_df.dropna(subset=['Conversion %']).copy()\n",
    "valid_df = valid_df[valid_df['Conversion %'] > 0]\n",
    "\n",
    "valid_df['Traffic'] = (valid_df['Units Sold'] / valid_df['Conversion %']).round().astype(int)\n",
    "valid_df.head()\n"
   ]
  },
  {
   "cell_type": "markdown",
   "metadata": {},
   "source": [
    "Calculating the total sales, average conversion rate, and total traffic for each week within each year:"
   ]
  },
  {
   "cell_type": "code",
   "execution_count": 298,
   "metadata": {},
   "outputs": [
    {
     "data": {
      "text/html": [
       "<div>\n",
       "<style scoped>\n",
       "    .dataframe tbody tr th:only-of-type {\n",
       "        vertical-align: middle;\n",
       "    }\n",
       "\n",
       "    .dataframe tbody tr th {\n",
       "        vertical-align: top;\n",
       "    }\n",
       "\n",
       "    .dataframe thead th {\n",
       "        text-align: right;\n",
       "    }\n",
       "</style>\n",
       "<table border=\"1\" class=\"dataframe\">\n",
       "  <thead>\n",
       "    <tr style=\"text-align: right;\">\n",
       "      <th></th>\n",
       "      <th>Year</th>\n",
       "      <th>Product ID</th>\n",
       "      <th>Total Sales</th>\n",
       "      <th>Conversion %</th>\n",
       "      <th>Traffic</th>\n",
       "    </tr>\n",
       "  </thead>\n",
       "  <tbody>\n",
       "    <tr>\n",
       "      <th>0</th>\n",
       "      <td>2024</td>\n",
       "      <td>Pd1000</td>\n",
       "      <td>775680.26</td>\n",
       "      <td>0.015471</td>\n",
       "      <td>323907</td>\n",
       "    </tr>\n",
       "    <tr>\n",
       "      <th>1</th>\n",
       "      <td>2024</td>\n",
       "      <td>Pd2000</td>\n",
       "      <td>483101.55</td>\n",
       "      <td>0.017326</td>\n",
       "      <td>222010</td>\n",
       "    </tr>\n",
       "    <tr>\n",
       "      <th>2</th>\n",
       "      <td>2024</td>\n",
       "      <td>Pd3000</td>\n",
       "      <td>324678.87</td>\n",
       "      <td>0.012713</td>\n",
       "      <td>209663</td>\n",
       "    </tr>\n",
       "    <tr>\n",
       "      <th>3</th>\n",
       "      <td>2024</td>\n",
       "      <td>Pd4000</td>\n",
       "      <td>371744.34</td>\n",
       "      <td>0.032131</td>\n",
       "      <td>99341</td>\n",
       "    </tr>\n",
       "    <tr>\n",
       "      <th>4</th>\n",
       "      <td>2024</td>\n",
       "      <td>Pd5000</td>\n",
       "      <td>317029.71</td>\n",
       "      <td>0.019312</td>\n",
       "      <td>127825</td>\n",
       "    </tr>\n",
       "    <tr>\n",
       "      <th>5</th>\n",
       "      <td>2024</td>\n",
       "      <td>Pd6000</td>\n",
       "      <td>21219.76</td>\n",
       "      <td>0.020170</td>\n",
       "      <td>20027</td>\n",
       "    </tr>\n",
       "    <tr>\n",
       "      <th>6</th>\n",
       "      <td>2024</td>\n",
       "      <td>Pd7000</td>\n",
       "      <td>20442.47</td>\n",
       "      <td>0.029396</td>\n",
       "      <td>12181</td>\n",
       "    </tr>\n",
       "    <tr>\n",
       "      <th>7</th>\n",
       "      <td>2024</td>\n",
       "      <td>Pd8000</td>\n",
       "      <td>3895.23</td>\n",
       "      <td>0.044114</td>\n",
       "      <td>1196</td>\n",
       "    </tr>\n",
       "    <tr>\n",
       "      <th>8</th>\n",
       "      <td>2024</td>\n",
       "      <td>Pd9000</td>\n",
       "      <td>30281.12</td>\n",
       "      <td>0.026739</td>\n",
       "      <td>19362</td>\n",
       "    </tr>\n",
       "    <tr>\n",
       "      <th>9</th>\n",
       "      <td>2025</td>\n",
       "      <td>Pd1000</td>\n",
       "      <td>217716.45</td>\n",
       "      <td>0.013649</td>\n",
       "      <td>180776</td>\n",
       "    </tr>\n",
       "  </tbody>\n",
       "</table>\n",
       "</div>"
      ],
      "text/plain": [
       "   Year Product ID  Total Sales  Conversion %  Traffic\n",
       "0  2024     Pd1000    775680.26      0.015471   323907\n",
       "1  2024     Pd2000    483101.55      0.017326   222010\n",
       "2  2024     Pd3000    324678.87      0.012713   209663\n",
       "3  2024     Pd4000    371744.34      0.032131    99341\n",
       "4  2024     Pd5000    317029.71      0.019312   127825\n",
       "5  2024     Pd6000     21219.76      0.020170    20027\n",
       "6  2024     Pd7000     20442.47      0.029396    12181\n",
       "7  2024     Pd8000      3895.23      0.044114     1196\n",
       "8  2024     Pd9000     30281.12      0.026739    19362\n",
       "9  2025     Pd1000    217716.45      0.013649   180776"
      ]
     },
     "execution_count": 298,
     "metadata": {},
     "output_type": "execute_result"
    }
   ],
   "source": [
    "product_rankings = valid_df.groupby(['Year', 'Product ID']).agg({\n",
    "    'Total Sales': 'sum',\n",
    "    'Conversion %': 'mean',\n",
    "    'Traffic': 'sum',\n",
    "}).reset_index()\n",
    "\n",
    "product_rankings.head(10)"
   ]
  },
  {
   "cell_type": "markdown",
   "metadata": {},
   "source": [
    "Similarly to the total sales, we add to the rankings conversion percentage and traffic."
   ]
  },
  {
   "cell_type": "code",
   "execution_count": 300,
   "metadata": {},
   "outputs": [
    {
     "data": {
      "text/html": [
       "<style type=\"text/css\">\n",
       "</style>\n",
       "<table id=\"T_c2874\">\n",
       "  <thead>\n",
       "    <tr>\n",
       "      <th id=\"T_c2874_level0_col0\" class=\"col_heading level0 col0\" >Rank</th>\n",
       "      <th id=\"T_c2874_level0_col1\" class=\"col_heading level0 col1\" >Product ID</th>\n",
       "      <th id=\"T_c2874_level0_col2\" class=\"col_heading level0 col2\" >Total Sales</th>\n",
       "      <th id=\"T_c2874_level0_col3\" class=\"col_heading level0 col3\" >Conversion %</th>\n",
       "      <th id=\"T_c2874_level0_col4\" class=\"col_heading level0 col4\" >Traffic</th>\n",
       "    </tr>\n",
       "  </thead>\n",
       "  <tbody>\n",
       "    <tr>\n",
       "      <td id=\"T_c2874_row0_col0\" class=\"data row0 col0\" >1</td>\n",
       "      <td id=\"T_c2874_row0_col1\" class=\"data row0 col1\" >Pd1000</td>\n",
       "      <td id=\"T_c2874_row0_col2\" class=\"data row0 col2\" >€775,680.26</td>\n",
       "      <td id=\"T_c2874_row0_col3\" class=\"data row0 col3\" >0.015471</td>\n",
       "      <td id=\"T_c2874_row0_col4\" class=\"data row0 col4\" >323907</td>\n",
       "    </tr>\n",
       "    <tr>\n",
       "      <td id=\"T_c2874_row1_col0\" class=\"data row1 col0\" >2</td>\n",
       "      <td id=\"T_c2874_row1_col1\" class=\"data row1 col1\" >Pd2000</td>\n",
       "      <td id=\"T_c2874_row1_col2\" class=\"data row1 col2\" >€483,101.55</td>\n",
       "      <td id=\"T_c2874_row1_col3\" class=\"data row1 col3\" >0.017326</td>\n",
       "      <td id=\"T_c2874_row1_col4\" class=\"data row1 col4\" >222010</td>\n",
       "    </tr>\n",
       "    <tr>\n",
       "      <td id=\"T_c2874_row2_col0\" class=\"data row2 col0\" >3</td>\n",
       "      <td id=\"T_c2874_row2_col1\" class=\"data row2 col1\" >Pd4000</td>\n",
       "      <td id=\"T_c2874_row2_col2\" class=\"data row2 col2\" >€371,744.34</td>\n",
       "      <td id=\"T_c2874_row2_col3\" class=\"data row2 col3\" >0.032131</td>\n",
       "      <td id=\"T_c2874_row2_col4\" class=\"data row2 col4\" >99341</td>\n",
       "    </tr>\n",
       "    <tr>\n",
       "      <td id=\"T_c2874_row3_col0\" class=\"data row3 col0\" >4</td>\n",
       "      <td id=\"T_c2874_row3_col1\" class=\"data row3 col1\" >Pd3000</td>\n",
       "      <td id=\"T_c2874_row3_col2\" class=\"data row3 col2\" >€324,678.87</td>\n",
       "      <td id=\"T_c2874_row3_col3\" class=\"data row3 col3\" >0.012713</td>\n",
       "      <td id=\"T_c2874_row3_col4\" class=\"data row3 col4\" >209663</td>\n",
       "    </tr>\n",
       "    <tr>\n",
       "      <td id=\"T_c2874_row4_col0\" class=\"data row4 col0\" >5</td>\n",
       "      <td id=\"T_c2874_row4_col1\" class=\"data row4 col1\" >Pd5000</td>\n",
       "      <td id=\"T_c2874_row4_col2\" class=\"data row4 col2\" >€317,029.71</td>\n",
       "      <td id=\"T_c2874_row4_col3\" class=\"data row4 col3\" >0.019312</td>\n",
       "      <td id=\"T_c2874_row4_col4\" class=\"data row4 col4\" >127825</td>\n",
       "    </tr>\n",
       "    <tr>\n",
       "      <td id=\"T_c2874_row5_col0\" class=\"data row5 col0\" >6</td>\n",
       "      <td id=\"T_c2874_row5_col1\" class=\"data row5 col1\" >Pd9000</td>\n",
       "      <td id=\"T_c2874_row5_col2\" class=\"data row5 col2\" >€30,281.12</td>\n",
       "      <td id=\"T_c2874_row5_col3\" class=\"data row5 col3\" >0.026739</td>\n",
       "      <td id=\"T_c2874_row5_col4\" class=\"data row5 col4\" >19362</td>\n",
       "    </tr>\n",
       "    <tr>\n",
       "      <td id=\"T_c2874_row6_col0\" class=\"data row6 col0\" >7</td>\n",
       "      <td id=\"T_c2874_row6_col1\" class=\"data row6 col1\" >Pd6000</td>\n",
       "      <td id=\"T_c2874_row6_col2\" class=\"data row6 col2\" >€21,219.76</td>\n",
       "      <td id=\"T_c2874_row6_col3\" class=\"data row6 col3\" >0.020170</td>\n",
       "      <td id=\"T_c2874_row6_col4\" class=\"data row6 col4\" >20027</td>\n",
       "    </tr>\n",
       "    <tr>\n",
       "      <td id=\"T_c2874_row7_col0\" class=\"data row7 col0\" >8</td>\n",
       "      <td id=\"T_c2874_row7_col1\" class=\"data row7 col1\" >Pd7000</td>\n",
       "      <td id=\"T_c2874_row7_col2\" class=\"data row7 col2\" >€20,442.47</td>\n",
       "      <td id=\"T_c2874_row7_col3\" class=\"data row7 col3\" >0.029396</td>\n",
       "      <td id=\"T_c2874_row7_col4\" class=\"data row7 col4\" >12181</td>\n",
       "    </tr>\n",
       "    <tr>\n",
       "      <td id=\"T_c2874_row8_col0\" class=\"data row8 col0\" >9</td>\n",
       "      <td id=\"T_c2874_row8_col1\" class=\"data row8 col1\" >Pd8000</td>\n",
       "      <td id=\"T_c2874_row8_col2\" class=\"data row8 col2\" >€3,895.23</td>\n",
       "      <td id=\"T_c2874_row8_col3\" class=\"data row8 col3\" >0.044114</td>\n",
       "      <td id=\"T_c2874_row8_col4\" class=\"data row8 col4\" >1196</td>\n",
       "    </tr>\n",
       "  </tbody>\n",
       "</table>\n"
      ],
      "text/plain": [
       "<pandas.io.formats.style.Styler at 0x123fd4500>"
      ]
     },
     "metadata": {},
     "output_type": "display_data"
    },
    {
     "data": {
      "text/html": [
       "<style type=\"text/css\">\n",
       "</style>\n",
       "<table id=\"T_e9e52\">\n",
       "  <thead>\n",
       "    <tr>\n",
       "      <th id=\"T_e9e52_level0_col0\" class=\"col_heading level0 col0\" >Rank</th>\n",
       "      <th id=\"T_e9e52_level0_col1\" class=\"col_heading level0 col1\" >Product ID</th>\n",
       "      <th id=\"T_e9e52_level0_col2\" class=\"col_heading level0 col2\" >Total Sales</th>\n",
       "      <th id=\"T_e9e52_level0_col3\" class=\"col_heading level0 col3\" >Conversion %</th>\n",
       "      <th id=\"T_e9e52_level0_col4\" class=\"col_heading level0 col4\" >Traffic</th>\n",
       "    </tr>\n",
       "  </thead>\n",
       "  <tbody>\n",
       "    <tr>\n",
       "      <td id=\"T_e9e52_row0_col0\" class=\"data row0 col0\" >1</td>\n",
       "      <td id=\"T_e9e52_row0_col1\" class=\"data row0 col1\" >Pd2000</td>\n",
       "      <td id=\"T_e9e52_row0_col2\" class=\"data row0 col2\" >€443,635.03</td>\n",
       "      <td id=\"T_e9e52_row0_col3\" class=\"data row0 col3\" >0.022131</td>\n",
       "      <td id=\"T_e9e52_row0_col4\" class=\"data row0 col4\" >160019</td>\n",
       "    </tr>\n",
       "    <tr>\n",
       "      <td id=\"T_e9e52_row1_col0\" class=\"data row1 col0\" >2</td>\n",
       "      <td id=\"T_e9e52_row1_col1\" class=\"data row1 col1\" >Pd1000</td>\n",
       "      <td id=\"T_e9e52_row1_col2\" class=\"data row1 col2\" >€217,716.45</td>\n",
       "      <td id=\"T_e9e52_row1_col3\" class=\"data row1 col3\" >0.013649</td>\n",
       "      <td id=\"T_e9e52_row1_col4\" class=\"data row1 col4\" >180776</td>\n",
       "    </tr>\n",
       "    <tr>\n",
       "      <td id=\"T_e9e52_row2_col0\" class=\"data row2 col0\" >3</td>\n",
       "      <td id=\"T_e9e52_row2_col1\" class=\"data row2 col1\" >Pd4000</td>\n",
       "      <td id=\"T_e9e52_row2_col2\" class=\"data row2 col2\" >€180,660.74</td>\n",
       "      <td id=\"T_e9e52_row2_col3\" class=\"data row2 col3\" >0.015983</td>\n",
       "      <td id=\"T_e9e52_row2_col4\" class=\"data row2 col4\" >81331</td>\n",
       "    </tr>\n",
       "    <tr>\n",
       "      <td id=\"T_e9e52_row3_col0\" class=\"data row3 col0\" >4</td>\n",
       "      <td id=\"T_e9e52_row3_col1\" class=\"data row3 col1\" >Pd5000</td>\n",
       "      <td id=\"T_e9e52_row3_col2\" class=\"data row3 col2\" >€118,710.84</td>\n",
       "      <td id=\"T_e9e52_row3_col3\" class=\"data row3 col3\" >0.017836</td>\n",
       "      <td id=\"T_e9e52_row3_col4\" class=\"data row3 col4\" >43548</td>\n",
       "    </tr>\n",
       "    <tr>\n",
       "      <td id=\"T_e9e52_row4_col0\" class=\"data row4 col0\" >5</td>\n",
       "      <td id=\"T_e9e52_row4_col1\" class=\"data row4 col1\" >Pd9000</td>\n",
       "      <td id=\"T_e9e52_row4_col2\" class=\"data row4 col2\" >€115,536.05</td>\n",
       "      <td id=\"T_e9e52_row4_col3\" class=\"data row4 col3\" >0.022775</td>\n",
       "      <td id=\"T_e9e52_row4_col4\" class=\"data row4 col4\" >60562</td>\n",
       "    </tr>\n",
       "    <tr>\n",
       "      <td id=\"T_e9e52_row5_col0\" class=\"data row5 col0\" >6</td>\n",
       "      <td id=\"T_e9e52_row5_col1\" class=\"data row5 col1\" >Pd3000</td>\n",
       "      <td id=\"T_e9e52_row5_col2\" class=\"data row5 col2\" >€59,807.24</td>\n",
       "      <td id=\"T_e9e52_row5_col3\" class=\"data row5 col3\" >0.009949</td>\n",
       "      <td id=\"T_e9e52_row5_col4\" class=\"data row5 col4\" >41480</td>\n",
       "    </tr>\n",
       "    <tr>\n",
       "      <td id=\"T_e9e52_row6_col0\" class=\"data row6 col0\" >7</td>\n",
       "      <td id=\"T_e9e52_row6_col1\" class=\"data row6 col1\" >Pd7000</td>\n",
       "      <td id=\"T_e9e52_row6_col2\" class=\"data row6 col2\" >€40,430.35</td>\n",
       "      <td id=\"T_e9e52_row6_col3\" class=\"data row6 col3\" >0.023442</td>\n",
       "      <td id=\"T_e9e52_row6_col4\" class=\"data row6 col4\" >17921</td>\n",
       "    </tr>\n",
       "    <tr>\n",
       "      <td id=\"T_e9e52_row7_col0\" class=\"data row7 col0\" >8</td>\n",
       "      <td id=\"T_e9e52_row7_col1\" class=\"data row7 col1\" >Pd8000</td>\n",
       "      <td id=\"T_e9e52_row7_col2\" class=\"data row7 col2\" >€36,070.29</td>\n",
       "      <td id=\"T_e9e52_row7_col3\" class=\"data row7 col3\" >0.021476</td>\n",
       "      <td id=\"T_e9e52_row7_col4\" class=\"data row7 col4\" >23082</td>\n",
       "    </tr>\n",
       "    <tr>\n",
       "      <td id=\"T_e9e52_row8_col0\" class=\"data row8 col0\" >9</td>\n",
       "      <td id=\"T_e9e52_row8_col1\" class=\"data row8 col1\" >Pd6000</td>\n",
       "      <td id=\"T_e9e52_row8_col2\" class=\"data row8 col2\" >€33,220.15</td>\n",
       "      <td id=\"T_e9e52_row8_col3\" class=\"data row8 col3\" >0.024002</td>\n",
       "      <td id=\"T_e9e52_row8_col4\" class=\"data row8 col4\" >15766</td>\n",
       "    </tr>\n",
       "  </tbody>\n",
       "</table>\n"
      ],
      "text/plain": [
       "<pandas.io.formats.style.Styler at 0x12362a090>"
      ]
     },
     "metadata": {},
     "output_type": "display_data"
    }
   ],
   "source": [
    "product_rankings['Rank'] = product_rankings.groupby('Year')['Total Sales'] \\\n",
    "                                   .rank(ascending=False, method='min').astype(int)\n",
    "\n",
    "ranked_2024 = product_rankings[product_rankings['Year'] == 2024] \\\n",
    "             .sort_values('Rank') \\\n",
    "             [['Rank', 'Product ID', 'Total Sales', 'Conversion %', 'Traffic']]\n",
    "\n",
    "ranked_2025 = product_rankings[product_rankings['Year'] == 2025] \\\n",
    "             .sort_values('Rank') \\\n",
    "             [['Rank', 'Product ID', 'Total Sales', 'Conversion %', 'Traffic']]\n",
    "\n",
    "def format_sales(df):\n",
    "    df = df.copy()\n",
    "    df['Total Sales'] = df['Total Sales'].apply(lambda x: f\"€{x:,.2f}\")\n",
    "    return df\n",
    "\n",
    "display(format_sales(ranked_2024).style.hide(axis='index'))\n",
    "display(format_sales(ranked_2025).style.hide(axis='index'))\n"
   ]
  },
  {
   "cell_type": "markdown",
   "metadata": {},
   "source": [
    "Next, we determine the products with highest conversion % and traffic for each year."
   ]
  },
  {
   "cell_type": "code",
   "execution_count": 301,
   "metadata": {},
   "outputs": [
    {
     "name": "stdout",
     "output_type": "stream",
     "text": [
      "Product with Highest Conversion Rate in 2024: Pd8000\n",
      "Product with Highest Conversion Rate in 2025: Pd6000\n",
      "Product with Highest Traffic in 2024: Pd1000\n",
      "Product with Highest Traffic in 2025: Pd1000\n"
     ]
    }
   ],
   "source": [
    "ranked_2024 = ranked_2024.reset_index()\n",
    "ranked_2025 = ranked_2025.reset_index()\n",
    "\n",
    "highest_conversion = ranked_2024.loc[ranked_2024['Conversion %'].astype(float).idxmax()]\n",
    "print(f\"Product with Highest Conversion Rate in 2024: {highest_conversion['Product ID']}\")\n",
    "\n",
    "highest_conversion = ranked_2025.loc[ranked_2025['Conversion %'].astype(float).idxmax()]\n",
    "print(f\"Product with Highest Conversion Rate in 2025: {highest_conversion['Product ID']}\")\n",
    "\n",
    "\n",
    "highest_traffic = ranked_2024.loc[ranked_2024['Traffic'].idxmax()]\n",
    "print(f\"Product with Highest Traffic in 2024: {highest_traffic['Product ID']}\")\n",
    "\n",
    "highest_traffic = ranked_2025.loc[ranked_2025['Traffic'].idxmax()]\n",
    "print(f\"Product with Highest Traffic in 2025: {highest_traffic['Product ID']}\")"
   ]
  },
  {
   "cell_type": "markdown",
   "metadata": {},
   "source": [
    "### Task 4\n",
    "#### Event Calendar Analysis\n",
    "We will determine which event generated the most traffic.\n",
    "We start with analyzing the provided file that lists holiday events."
   ]
  },
  {
   "cell_type": "code",
   "execution_count": 249,
   "metadata": {},
   "outputs": [
    {
     "name": "stdout",
     "output_type": "stream",
     "text": [
      "      Year                 Event Name      Week Nr\n",
      "0     2024             New Year's Day    WeekNum-1\n",
      "1     2024               Black Friday   WeekNum-48\n",
      "2     2024                   Epiphany    WeekNum-6\n",
      "3     2024              Easter Sunday   WeekNum-13\n",
      "4   2024 .               Black Friday   WeekNum-48\n",
      "5     2024              Easter Monday   WeekNum-14\n",
      "6     2024                 Labour Day  WeekNum-18-\n",
      "7     2024              Christmas Day   WeekNum-52\n",
      "8     2024                   Epiphany    WeekNum-6\n",
      "9     2025             New Year's Day    WeekNum-1\n",
      "10    2025                   Epiphany    WeekNum-1\n",
      "11    2024               Black Friday   WeekNum-48\n",
      "12    2025              Easter Sunday  WeekNum-16 \n",
      "13    2025  Important Meeting Invites   WeekNum-10\n",
      "14    2025              Easter Monday   WeekNum-17\n",
      "15    2025                 Labour Day   WeekNum-18\n",
      "16    2024               Cyber Monday  WeekNum-49 \n",
      "17    2024               Singles' Day   WeekNum-45\n",
      "18    2025               Black Friday   WeekNum-48\n",
      "19    2025               Cyber Monday   WeekNum-49\n",
      "20    2025               Singles' Day  WeekNum-46_\n",
      "21    2025          Holiday in France   WeekNum-02\n",
      "22    2025   Important Meeting Invite   WeekNum-10\n",
      "23  2025 -                  Christmas   WeekNum-52\n",
      "24    2024              Black Fridays  WeekNum-48 \n",
      "25    2025              Christmas Day   WeekNum-52\n",
      "26    2024               Black Friday   WeekNum-48\n"
     ]
    }
   ],
   "source": [
    "holidays = pd.read_csv('Event Calendar.txt', sep=',', header=0)\n",
    "print(holidays)"
   ]
  },
  {
   "cell_type": "markdown",
   "metadata": {},
   "source": [
    "Renaming the columns and cleaning up:"
   ]
  },
  {
   "cell_type": "code",
   "execution_count": 250,
   "metadata": {},
   "outputs": [
    {
     "name": "stdout",
     "output_type": "stream",
     "text": [
      "    Year                 Event Name  Week\n",
      "0   2024             New Year's Day     1\n",
      "1   2024               Black Friday    48\n",
      "2   2024                   Epiphany     6\n",
      "3   2024              Easter Sunday    13\n",
      "4   2024               Black Friday    48\n",
      "5   2024              Easter Monday    14\n",
      "6   2024                 Labour Day    18\n",
      "7   2024              Christmas Day    52\n",
      "8   2024                   Epiphany     6\n",
      "9   2025             New Year's Day     1\n",
      "10  2025                   Epiphany     1\n",
      "11  2024               Black Friday    48\n",
      "12  2025              Easter Sunday    16\n",
      "13  2025  Important Meeting Invites    10\n",
      "14  2025              Easter Monday    17\n",
      "15  2025                 Labour Day    18\n",
      "16  2024               Cyber Monday    49\n",
      "17  2024               Singles' Day    45\n",
      "18  2025               Black Friday    48\n",
      "19  2025               Cyber Monday    49\n",
      "20  2025               Singles' Day    46\n",
      "21  2025          Holiday in France     2\n",
      "22  2025   Important Meeting Invite    10\n",
      "23  2025                  Christmas    52\n",
      "24  2024              Black Fridays    48\n",
      "25  2025              Christmas Day    52\n",
      "26  2024               Black Friday    48\n"
     ]
    }
   ],
   "source": [
    "holidays.columns = ['Year', 'Event Name', 'Week']\n",
    "\n",
    "holidays['Year'] = holidays['Year'].str.replace(r'[^0-9]', '', regex=True).astype(int)\n",
    "holidays['Week'] = holidays['Week'].str.replace(r'[^0-9]', '', regex=True).astype(int)\n",
    "holidays['Event Name'] = holidays['Event Name'].str.strip()\n",
    "\n",
    "print(holidays)"
   ]
  },
  {
   "cell_type": "markdown",
   "metadata": {},
   "source": [
    "Drop exact duplicates:"
   ]
  },
  {
   "cell_type": "code",
   "execution_count": 251,
   "metadata": {},
   "outputs": [
    {
     "name": "stdout",
     "output_type": "stream",
     "text": [
      "    Year                 Event Name  Week\n",
      "0   2024             New Year's Day     1\n",
      "1   2024               Black Friday    48\n",
      "2   2024                   Epiphany     6\n",
      "3   2024              Easter Sunday    13\n",
      "5   2024              Easter Monday    14\n",
      "6   2024                 Labour Day    18\n",
      "7   2024              Christmas Day    52\n",
      "9   2025             New Year's Day     1\n",
      "10  2025                   Epiphany     1\n",
      "12  2025              Easter Sunday    16\n",
      "13  2025  Important Meeting Invites    10\n",
      "14  2025              Easter Monday    17\n",
      "15  2025                 Labour Day    18\n",
      "16  2024               Cyber Monday    49\n",
      "17  2024               Singles' Day    45\n",
      "18  2025               Black Friday    48\n",
      "19  2025               Cyber Monday    49\n",
      "20  2025               Singles' Day    46\n",
      "21  2025          Holiday in France     2\n",
      "22  2025   Important Meeting Invite    10\n",
      "23  2025                  Christmas    52\n",
      "24  2024              Black Fridays    48\n",
      "25  2025              Christmas Day    52\n"
     ]
    }
   ],
   "source": [
    "holidays = holidays.drop_duplicates()\n",
    "print(holidays)"
   ]
  },
  {
   "cell_type": "markdown",
   "metadata": {},
   "source": [
    "Check separately lists for 2024 and 2025. First is 2024:"
   ]
  },
  {
   "cell_type": "code",
   "execution_count": 252,
   "metadata": {},
   "outputs": [
    {
     "name": "stdout",
     "output_type": "stream",
     "text": [
      "    Year      Event Name  Week\n",
      "0   2024  New Year's Day     1\n",
      "2   2024        Epiphany     6\n",
      "3   2024   Easter Sunday    13\n",
      "5   2024   Easter Monday    14\n",
      "6   2024      Labour Day    18\n",
      "17  2024    Singles' Day    45\n",
      "24  2024   Black Fridays    48\n",
      "1   2024    Black Friday    48\n",
      "16  2024    Cyber Monday    49\n",
      "7   2024   Christmas Day    52\n"
     ]
    }
   ],
   "source": [
    "print(holidays[holidays['Year'] == 2024].sort_values(by='Week'))"
   ]
  },
  {
   "cell_type": "markdown",
   "metadata": {},
   "source": [
    "Two Black Fridays during same year-week is suspicious, so we remove it."
   ]
  },
  {
   "cell_type": "code",
   "execution_count": 253,
   "metadata": {},
   "outputs": [
    {
     "name": "stdout",
     "output_type": "stream",
     "text": [
      "    Year      Event Name  Week\n",
      "0   2024  New Year's Day     1\n",
      "2   2024        Epiphany     6\n",
      "3   2024   Easter Sunday    13\n",
      "5   2024   Easter Monday    14\n",
      "6   2024      Labour Day    18\n",
      "17  2024    Singles' Day    45\n",
      "1   2024    Black Friday    48\n",
      "16  2024    Cyber Monday    49\n",
      "7   2024   Christmas Day    52\n"
     ]
    }
   ],
   "source": [
    "holidays = holidays.drop(index=24) \n",
    "print(holidays[holidays['Year'] == 2024].sort_values(by='Week'))"
   ]
  },
  {
   "cell_type": "markdown",
   "metadata": {},
   "source": [
    "Now the list for 2025:"
   ]
  },
  {
   "cell_type": "code",
   "execution_count": 254,
   "metadata": {},
   "outputs": [
    {
     "name": "stdout",
     "output_type": "stream",
     "text": [
      "    Year                 Event Name  Week\n",
      "9   2025             New Year's Day     1\n",
      "10  2025                   Epiphany     1\n",
      "21  2025          Holiday in France     2\n",
      "13  2025  Important Meeting Invites    10\n",
      "22  2025   Important Meeting Invite    10\n",
      "12  2025              Easter Sunday    16\n",
      "14  2025              Easter Monday    17\n",
      "15  2025                 Labour Day    18\n",
      "20  2025               Singles' Day    46\n",
      "18  2025               Black Friday    48\n",
      "19  2025               Cyber Monday    49\n",
      "23  2025                  Christmas    52\n",
      "25  2025              Christmas Day    52\n"
     ]
    }
   ],
   "source": [
    "print(holidays[holidays['Year'] == 2025].sort_values(by='Week'))"
   ]
  },
  {
   "cell_type": "markdown",
   "metadata": {},
   "source": [
    "The two instances of suspicious holidays with the same year-week pairs are Important Meeting Invite(s) and Christmas (day). We assume they represent the same event, so we drop one of each. Also, it seems that Epiphany happens on different weeks in 2024 and 2025, which seems incorrect as it must be in January. Since it is usually celebrated on January 6, which is in week one in 2024, I will drop it. "
   ]
  },
  {
   "cell_type": "code",
   "execution_count": 255,
   "metadata": {},
   "outputs": [
    {
     "name": "stdout",
     "output_type": "stream",
     "text": [
      "    Year                Event Name  Week\n",
      "0   2024            New Year's Day     1\n",
      "1   2024              Black Friday    48\n",
      "3   2024             Easter Sunday    13\n",
      "5   2024             Easter Monday    14\n",
      "6   2024                Labour Day    18\n",
      "7   2024             Christmas Day    52\n",
      "9   2025            New Year's Day     1\n",
      "12  2025             Easter Sunday    16\n",
      "14  2025             Easter Monday    17\n",
      "15  2025                Labour Day    18\n",
      "16  2024              Cyber Monday    49\n",
      "17  2024              Singles' Day    45\n",
      "18  2025              Black Friday    48\n",
      "19  2025              Cyber Monday    49\n",
      "20  2025              Singles' Day    46\n",
      "21  2025         Holiday in France     2\n",
      "22  2025  Important Meeting Invite    10\n",
      "25  2025             Christmas Day    52\n"
     ]
    }
   ],
   "source": [
    "holidays = holidays.drop(index=[13, 23, 2, 10]) \n",
    "print(holidays)"
   ]
  },
  {
   "cell_type": "code",
   "execution_count": 256,
   "metadata": {},
   "outputs": [],
   "source": [
    "holidays = holidays.reset_index()"
   ]
  },
  {
   "cell_type": "markdown",
   "metadata": {},
   "source": [
    "I will assume that events that are present only in 2025 were not relevent for 2024. We now will merge weekly_sales and holidays on Year and Week, the weeks without a holiday get NaN."
   ]
  },
  {
   "cell_type": "code",
   "execution_count": 302,
   "metadata": {},
   "outputs": [
    {
     "name": "stdout",
     "output_type": "stream",
     "text": [
      "    Product ID Year-Week  Units Sold  Conversion %  Avg Sales Price    OOS%  \\\n",
      "0       Pd3000   2024-01       157.0      0.027986           113.51  0.0000   \n",
      "1       Pd3000   2024-02       148.0      0.025708           113.49  0.0000   \n",
      "2       Pd3000   2024-03        98.0      0.015031           113.49  0.0000   \n",
      "3       Pd3000   2024-04       136.0      0.016185           105.23  0.0000   \n",
      "4       Pd3000   2024-05       143.0      0.019427           106.67  0.0000   \n",
      "..         ...       ...         ...           ...              ...     ...   \n",
      "496     Pd2000   2025-26       403.0      0.019859            87.43  0.3014   \n",
      "497     Pd2000   2025-27       288.0      0.011799            94.00  0.5227   \n",
      "498     Pd2000   2025-28       279.0      0.025052            88.86  0.1554   \n",
      "499     Pd2000   2025-29        44.0      0.011937            82.67  0.3518   \n",
      "500     Pd2000   2025-30        40.0      0.014035            82.69  0.3527   \n",
      "\n",
      "     Year  Week  Total Sales  Traffic  index      Event Name  \n",
      "0    2024     1     17821.07     5610    0.0  New Year's Day  \n",
      "1    2024     2     16796.52     5757    NaN             NaN  \n",
      "2    2024     3     11122.02     6520    NaN             NaN  \n",
      "3    2024     4     14311.28     8403    NaN             NaN  \n",
      "4    2024     5     15253.81     7361    NaN             NaN  \n",
      "..    ...   ...          ...      ...    ...             ...  \n",
      "496  2025    26     35234.29    20293    NaN             NaN  \n",
      "497  2025    27     27072.00    24408    NaN             NaN  \n",
      "498  2025    28     24791.94    11137    NaN             NaN  \n",
      "499  2025    29      3637.48     3686    NaN             NaN  \n",
      "500  2025    30      3307.60     2850    NaN             NaN  \n",
      "\n",
      "[501 rows x 12 columns]\n"
     ]
    }
   ],
   "source": [
    "merged_data = pd.merge(\n",
    "    valid_df,\n",
    "    holidays,\n",
    "    on=['Year', 'Week'],\n",
    "    how='left'\n",
    ")\n",
    "\n",
    "print(merged_data)"
   ]
  },
  {
   "cell_type": "code",
   "execution_count": 303,
   "metadata": {},
   "outputs": [
    {
     "name": "stdout",
     "output_type": "stream",
     "text": [
      "    Product ID  Units Sold  Year  Week  Total Sales  Traffic      Event Name\n",
      "0       Pd3000       157.0  2024     1     17821.07     5610  New Year's Day\n",
      "1       Pd3000       148.0  2024     2     16796.52     5757             NaN\n",
      "2       Pd3000        98.0  2024     3     11122.02     6520             NaN\n",
      "3       Pd3000       136.0  2024     4     14311.28     8403             NaN\n",
      "4       Pd3000       143.0  2024     5     15253.81     7361             NaN\n",
      "..         ...         ...   ...   ...          ...      ...             ...\n",
      "496     Pd2000       403.0  2025    26     35234.29    20293             NaN\n",
      "497     Pd2000       288.0  2025    27     27072.00    24408             NaN\n",
      "498     Pd2000       279.0  2025    28     24791.94    11137             NaN\n",
      "499     Pd2000        44.0  2025    29      3637.48     3686             NaN\n",
      "500     Pd2000        40.0  2025    30      3307.60     2850             NaN\n",
      "\n",
      "[501 rows x 7 columns]\n"
     ]
    }
   ],
   "source": [
    "merged_data = merged_data.drop(['index', 'Year-Week', 'OOS%', 'Conversion %', 'Avg Sales Price'], axis=1)\n",
    "print(merged_data)"
   ]
  },
  {
   "cell_type": "markdown",
   "metadata": {},
   "source": [
    "Determining the events that generated the largest traffic in 2025:"
   ]
  },
  {
   "cell_type": "code",
   "execution_count": 304,
   "metadata": {},
   "outputs": [
    {
     "name": "stdout",
     "output_type": "stream",
     "text": [
      "Event Name\n",
      "New Year's Day              30488\n",
      "Holiday in France           26562\n",
      "Labour Day                  17809\n",
      "Important Meeting Invite    12496\n",
      "Easter Sunday                8749\n",
      "Easter Monday                8504\n",
      "Name: Traffic, dtype: int64\n"
     ]
    }
   ],
   "source": [
    "event_traffic_2025 = merged_data[merged_data['Year'] == 2025].groupby('Event Name')['Traffic'] \\\n",
    "    .sum() \\\n",
    "    .sort_values(ascending=False)\n",
    "\n",
    "print(event_traffic_2025)"
   ]
  },
  {
   "cell_type": "markdown",
   "metadata": {},
   "source": [
    "In 2025, the most traffic was generated during New Year's week. For 2024, we check similarly:"
   ]
  },
  {
   "cell_type": "code",
   "execution_count": 305,
   "metadata": {},
   "outputs": [
    {
     "name": "stdout",
     "output_type": "stream",
     "text": [
      "Event Name\n",
      "Black Friday      49419\n",
      "Christmas Day     38121\n",
      "Singles' Day      25205\n",
      "Cyber Monday      22401\n",
      "New Year's Day     9385\n",
      "Easter Monday      8968\n",
      "Easter Sunday      8417\n",
      "Labour Day         7349\n",
      "Name: Traffic, dtype: int64\n"
     ]
    }
   ],
   "source": [
    "event_traffic_2024 = merged_data[merged_data['Year'] == 2024].groupby('Event Name')['Traffic'] \\\n",
    "    .sum() \\\n",
    "    .sort_values(ascending=False)\n",
    "\n",
    "print(event_traffic_2024)"
   ]
  },
  {
   "cell_type": "markdown",
   "metadata": {},
   "source": [
    "The event that generated the most traffic in 2024 is Black Friday. All events in top 4 of 2024 did not happen yet in 2025, and the New Year's traffic of 2024 is much lower than that in 2025."
   ]
  },
  {
   "cell_type": "markdown",
   "metadata": {},
   "source": [
    "### Task 5\n",
    "#### Out of Stock Analysis\n",
    "\n",
    "First, we will calculate the Out Of Stock % for 2024 and 2025. We will calculate it as **Total OOS Trafic / Total Traffic** for each year, where **Total OOS Traffic** represents the number of times users reached out for the products on the website while the latter was out of stock (throughout the whole year). \n",
    "\n",
    "The OOS Traffic for each week:"
   ]
  },
  {
   "cell_type": "code",
   "execution_count": null,
   "metadata": {},
   "outputs": [],
   "source": [
    "valid_df['OOS Traffic'] = valid_df['Traffic'] * valid_df['OOS%']"
   ]
  },
  {
   "cell_type": "markdown",
   "metadata": {},
   "source": [
    "The following function takes in year and returns the calculated yearly out of stock percentage. "
   ]
  },
  {
   "cell_type": "code",
   "execution_count": 320,
   "metadata": {},
   "outputs": [],
   "source": [
    "def calculate_yearly_oos(year):\n",
    "    year_data = valid_df[valid_df['Year'] == year]\n",
    "    total_traffic = year_data['Traffic'].sum()\n",
    "    oos_traffic = year_data['OOS Traffic'].sum()\n",
    "    return (oos_traffic / total_traffic) * 100"
   ]
  },
  {
   "cell_type": "code",
   "execution_count": 322,
   "metadata": {},
   "outputs": [
    {
     "name": "stdout",
     "output_type": "stream",
     "text": [
      "The Out of Stock percentage in 2024: 9.78%\n",
      "The Out of Stock percentage in 2025: 11.59%\n"
     ]
    }
   ],
   "source": [
    "print(f\"The Out of Stock percentage in 2024: {calculate_yearly_oos(2024):.2f}%\")\n",
    "print(f\"The Out of Stock percentage in 2025: {calculate_yearly_oos(2025):.2f}%\")"
   ]
  },
  {
   "cell_type": "markdown",
   "metadata": {},
   "source": [
    "##### The products with highest Out of Stock % in 2025\n",
    "\n",
    "Merging with the holidays dataframe as previously:"
   ]
  },
  {
   "cell_type": "code",
   "execution_count": 324,
   "metadata": {},
   "outputs": [
    {
     "data": {
      "text/html": [
       "<div>\n",
       "<style scoped>\n",
       "    .dataframe tbody tr th:only-of-type {\n",
       "        vertical-align: middle;\n",
       "    }\n",
       "\n",
       "    .dataframe tbody tr th {\n",
       "        vertical-align: top;\n",
       "    }\n",
       "\n",
       "    .dataframe thead th {\n",
       "        text-align: right;\n",
       "    }\n",
       "</style>\n",
       "<table border=\"1\" class=\"dataframe\">\n",
       "  <thead>\n",
       "    <tr style=\"text-align: right;\">\n",
       "      <th></th>\n",
       "      <th>Product ID</th>\n",
       "      <th>Year-Week</th>\n",
       "      <th>Units Sold</th>\n",
       "      <th>Conversion %</th>\n",
       "      <th>Avg Sales Price</th>\n",
       "      <th>OOS%</th>\n",
       "      <th>Year</th>\n",
       "      <th>Week</th>\n",
       "      <th>Total Sales</th>\n",
       "      <th>Traffic</th>\n",
       "      <th>OOS Traffic</th>\n",
       "      <th>index</th>\n",
       "      <th>Event Name</th>\n",
       "    </tr>\n",
       "  </thead>\n",
       "  <tbody>\n",
       "    <tr>\n",
       "      <th>0</th>\n",
       "      <td>Pd3000</td>\n",
       "      <td>2024-01</td>\n",
       "      <td>157.0</td>\n",
       "      <td>0.027986</td>\n",
       "      <td>113.51</td>\n",
       "      <td>0.0</td>\n",
       "      <td>2024</td>\n",
       "      <td>1</td>\n",
       "      <td>17821.07</td>\n",
       "      <td>5610</td>\n",
       "      <td>0.0</td>\n",
       "      <td>0.0</td>\n",
       "      <td>New Year's Day</td>\n",
       "    </tr>\n",
       "    <tr>\n",
       "      <th>1</th>\n",
       "      <td>Pd3000</td>\n",
       "      <td>2024-02</td>\n",
       "      <td>148.0</td>\n",
       "      <td>0.025708</td>\n",
       "      <td>113.49</td>\n",
       "      <td>0.0</td>\n",
       "      <td>2024</td>\n",
       "      <td>2</td>\n",
       "      <td>16796.52</td>\n",
       "      <td>5757</td>\n",
       "      <td>0.0</td>\n",
       "      <td>NaN</td>\n",
       "      <td>NaN</td>\n",
       "    </tr>\n",
       "    <tr>\n",
       "      <th>2</th>\n",
       "      <td>Pd3000</td>\n",
       "      <td>2024-03</td>\n",
       "      <td>98.0</td>\n",
       "      <td>0.015031</td>\n",
       "      <td>113.49</td>\n",
       "      <td>0.0</td>\n",
       "      <td>2024</td>\n",
       "      <td>3</td>\n",
       "      <td>11122.02</td>\n",
       "      <td>6520</td>\n",
       "      <td>0.0</td>\n",
       "      <td>NaN</td>\n",
       "      <td>NaN</td>\n",
       "    </tr>\n",
       "    <tr>\n",
       "      <th>3</th>\n",
       "      <td>Pd3000</td>\n",
       "      <td>2024-04</td>\n",
       "      <td>136.0</td>\n",
       "      <td>0.016185</td>\n",
       "      <td>105.23</td>\n",
       "      <td>0.0</td>\n",
       "      <td>2024</td>\n",
       "      <td>4</td>\n",
       "      <td>14311.28</td>\n",
       "      <td>8403</td>\n",
       "      <td>0.0</td>\n",
       "      <td>NaN</td>\n",
       "      <td>NaN</td>\n",
       "    </tr>\n",
       "    <tr>\n",
       "      <th>4</th>\n",
       "      <td>Pd3000</td>\n",
       "      <td>2024-05</td>\n",
       "      <td>143.0</td>\n",
       "      <td>0.019427</td>\n",
       "      <td>106.67</td>\n",
       "      <td>0.0</td>\n",
       "      <td>2024</td>\n",
       "      <td>5</td>\n",
       "      <td>15253.81</td>\n",
       "      <td>7361</td>\n",
       "      <td>0.0</td>\n",
       "      <td>NaN</td>\n",
       "      <td>NaN</td>\n",
       "    </tr>\n",
       "  </tbody>\n",
       "</table>\n",
       "</div>"
      ],
      "text/plain": [
       "  Product ID Year-Week  Units Sold  Conversion %  Avg Sales Price  OOS%  Year  \\\n",
       "0     Pd3000   2024-01       157.0      0.027986           113.51   0.0  2024   \n",
       "1     Pd3000   2024-02       148.0      0.025708           113.49   0.0  2024   \n",
       "2     Pd3000   2024-03        98.0      0.015031           113.49   0.0  2024   \n",
       "3     Pd3000   2024-04       136.0      0.016185           105.23   0.0  2024   \n",
       "4     Pd3000   2024-05       143.0      0.019427           106.67   0.0  2024   \n",
       "\n",
       "   Week  Total Sales  Traffic  OOS Traffic  index      Event Name  \n",
       "0     1     17821.07     5610          0.0    0.0  New Year's Day  \n",
       "1     2     16796.52     5757          0.0    NaN             NaN  \n",
       "2     3     11122.02     6520          0.0    NaN             NaN  \n",
       "3     4     14311.28     8403          0.0    NaN             NaN  \n",
       "4     5     15253.81     7361          0.0    NaN             NaN  "
      ]
     },
     "execution_count": 324,
     "metadata": {},
     "output_type": "execute_result"
    }
   ],
   "source": [
    "merged_data_with_oos = pd.merge(\n",
    "    valid_df,\n",
    "    holidays,\n",
    "    on=['Year', 'Week'],\n",
    "    how='left'\n",
    ")\n",
    "\n",
    "merged_data_with_oos.head()"
   ]
  },
  {
   "cell_type": "markdown",
   "metadata": {},
   "source": [
    "Filter for 2025 only:"
   ]
  },
  {
   "cell_type": "code",
   "execution_count": 325,
   "metadata": {},
   "outputs": [],
   "source": [
    "oos_by_events_2025 = merged_data_with_oos[merged_data_with_oos['Year'] == 2025]"
   ]
  },
  {
   "cell_type": "code",
   "execution_count": 328,
   "metadata": {},
   "outputs": [
    {
     "data": {
      "text/html": [
       "<div>\n",
       "<style scoped>\n",
       "    .dataframe tbody tr th:only-of-type {\n",
       "        vertical-align: middle;\n",
       "    }\n",
       "\n",
       "    .dataframe tbody tr th {\n",
       "        vertical-align: top;\n",
       "    }\n",
       "\n",
       "    .dataframe thead th {\n",
       "        text-align: right;\n",
       "    }\n",
       "</style>\n",
       "<table border=\"1\" class=\"dataframe\">\n",
       "  <thead>\n",
       "    <tr style=\"text-align: right;\">\n",
       "      <th></th>\n",
       "      <th>Product ID</th>\n",
       "      <th>Year-Week</th>\n",
       "      <th>Units Sold</th>\n",
       "      <th>Conversion %</th>\n",
       "      <th>Avg Sales Price</th>\n",
       "      <th>OOS%</th>\n",
       "      <th>Year</th>\n",
       "      <th>Week</th>\n",
       "      <th>Total Sales</th>\n",
       "      <th>Traffic</th>\n",
       "      <th>OOS Traffic</th>\n",
       "      <th>Event Name</th>\n",
       "    </tr>\n",
       "  </thead>\n",
       "  <tbody>\n",
       "    <tr>\n",
       "      <th>52</th>\n",
       "      <td>Pd3000</td>\n",
       "      <td>2025-01</td>\n",
       "      <td>7.0</td>\n",
       "      <td>0.003476</td>\n",
       "      <td>143.49</td>\n",
       "      <td>0.0</td>\n",
       "      <td>2025</td>\n",
       "      <td>1</td>\n",
       "      <td>1004.43</td>\n",
       "      <td>2014</td>\n",
       "      <td>0.0</td>\n",
       "      <td>New Year's Day</td>\n",
       "    </tr>\n",
       "    <tr>\n",
       "      <th>53</th>\n",
       "      <td>Pd3000</td>\n",
       "      <td>2025-02</td>\n",
       "      <td>9.0</td>\n",
       "      <td>0.011643</td>\n",
       "      <td>118.70</td>\n",
       "      <td>0.0</td>\n",
       "      <td>2025</td>\n",
       "      <td>2</td>\n",
       "      <td>1068.30</td>\n",
       "      <td>773</td>\n",
       "      <td>0.0</td>\n",
       "      <td>Holiday in France</td>\n",
       "    </tr>\n",
       "    <tr>\n",
       "      <th>54</th>\n",
       "      <td>Pd3000</td>\n",
       "      <td>2025-03</td>\n",
       "      <td>5.0</td>\n",
       "      <td>0.003605</td>\n",
       "      <td>98.77</td>\n",
       "      <td>0.0</td>\n",
       "      <td>2025</td>\n",
       "      <td>3</td>\n",
       "      <td>493.85</td>\n",
       "      <td>1387</td>\n",
       "      <td>0.0</td>\n",
       "      <td>NaN</td>\n",
       "    </tr>\n",
       "    <tr>\n",
       "      <th>55</th>\n",
       "      <td>Pd3000</td>\n",
       "      <td>2025-04</td>\n",
       "      <td>31.0</td>\n",
       "      <td>0.017289</td>\n",
       "      <td>102.19</td>\n",
       "      <td>0.0</td>\n",
       "      <td>2025</td>\n",
       "      <td>4</td>\n",
       "      <td>3167.89</td>\n",
       "      <td>1793</td>\n",
       "      <td>0.0</td>\n",
       "      <td>NaN</td>\n",
       "    </tr>\n",
       "    <tr>\n",
       "      <th>56</th>\n",
       "      <td>Pd3000</td>\n",
       "      <td>2025-05</td>\n",
       "      <td>26.0</td>\n",
       "      <td>0.014428</td>\n",
       "      <td>101.77</td>\n",
       "      <td>0.0</td>\n",
       "      <td>2025</td>\n",
       "      <td>5</td>\n",
       "      <td>2646.02</td>\n",
       "      <td>1802</td>\n",
       "      <td>0.0</td>\n",
       "      <td>NaN</td>\n",
       "    </tr>\n",
       "  </tbody>\n",
       "</table>\n",
       "</div>"
      ],
      "text/plain": [
       "   Product ID Year-Week  Units Sold  Conversion %  Avg Sales Price  OOS%  \\\n",
       "52     Pd3000   2025-01         7.0      0.003476           143.49   0.0   \n",
       "53     Pd3000   2025-02         9.0      0.011643           118.70   0.0   \n",
       "54     Pd3000   2025-03         5.0      0.003605            98.77   0.0   \n",
       "55     Pd3000   2025-04        31.0      0.017289           102.19   0.0   \n",
       "56     Pd3000   2025-05        26.0      0.014428           101.77   0.0   \n",
       "\n",
       "    Year  Week  Total Sales  Traffic  OOS Traffic         Event Name  \n",
       "52  2025     1      1004.43     2014          0.0     New Year's Day  \n",
       "53  2025     2      1068.30      773          0.0  Holiday in France  \n",
       "54  2025     3       493.85     1387          0.0                NaN  \n",
       "55  2025     4      3167.89     1793          0.0                NaN  \n",
       "56  2025     5      2646.02     1802          0.0                NaN  "
      ]
     },
     "execution_count": 328,
     "metadata": {},
     "output_type": "execute_result"
    }
   ],
   "source": [
    "oos_by_events_2025 = oos_by_events_2025.drop('index', axis = 1)\n",
    "oos_by_events_2025.head()"
   ]
  },
  {
   "cell_type": "markdown",
   "metadata": {},
   "source": [
    "To determine which events experienced the highest OOS%, I will create a ranking. I calculate OOS% for each event similarly to the total calculations in the prvious subtask, but before summing up the (OOS) traffics of different products we will group by events of 2025."
   ]
  },
  {
   "cell_type": "code",
   "execution_count": 343,
   "metadata": {},
   "outputs": [],
   "source": [
    "total_traffic_by_event = event_traffic = oos_by_events_2025.groupby('Event Name')['Traffic'].sum()\n",
    "oos_traffic_by_event = oos_by_events_2025.groupby('Event Name')['OOS Traffic'].sum()"
   ]
  },
  {
   "cell_type": "markdown",
   "metadata": {},
   "source": [
    "We merge the results into one dataframe:"
   ]
  },
  {
   "cell_type": "code",
   "execution_count": 344,
   "metadata": {},
   "outputs": [
    {
     "data": {
      "text/html": [
       "<div>\n",
       "<style scoped>\n",
       "    .dataframe tbody tr th:only-of-type {\n",
       "        vertical-align: middle;\n",
       "    }\n",
       "\n",
       "    .dataframe tbody tr th {\n",
       "        vertical-align: top;\n",
       "    }\n",
       "\n",
       "    .dataframe thead th {\n",
       "        text-align: right;\n",
       "    }\n",
       "</style>\n",
       "<table border=\"1\" class=\"dataframe\">\n",
       "  <thead>\n",
       "    <tr style=\"text-align: right;\">\n",
       "      <th></th>\n",
       "      <th>Traffic</th>\n",
       "      <th>OOS Traffic</th>\n",
       "    </tr>\n",
       "    <tr>\n",
       "      <th>Event Name</th>\n",
       "      <th></th>\n",
       "      <th></th>\n",
       "    </tr>\n",
       "  </thead>\n",
       "  <tbody>\n",
       "    <tr>\n",
       "      <th>Easter Monday</th>\n",
       "      <td>8504</td>\n",
       "      <td>707.2766</td>\n",
       "    </tr>\n",
       "    <tr>\n",
       "      <th>Easter Sunday</th>\n",
       "      <td>8749</td>\n",
       "      <td>0.0000</td>\n",
       "    </tr>\n",
       "    <tr>\n",
       "      <th>Holiday in France</th>\n",
       "      <td>26562</td>\n",
       "      <td>5787.1992</td>\n",
       "    </tr>\n",
       "    <tr>\n",
       "      <th>Important Meeting Invite</th>\n",
       "      <td>12496</td>\n",
       "      <td>0.0000</td>\n",
       "    </tr>\n",
       "    <tr>\n",
       "      <th>Labour Day</th>\n",
       "      <td>17809</td>\n",
       "      <td>0.0000</td>\n",
       "    </tr>\n",
       "    <tr>\n",
       "      <th>New Year's Day</th>\n",
       "      <td>30488</td>\n",
       "      <td>10790.2600</td>\n",
       "    </tr>\n",
       "  </tbody>\n",
       "</table>\n",
       "</div>"
      ],
      "text/plain": [
       "                          Traffic  OOS Traffic\n",
       "Event Name                                    \n",
       "Easter Monday                8504     707.2766\n",
       "Easter Sunday                8749       0.0000\n",
       "Holiday in France           26562    5787.1992\n",
       "Important Meeting Invite    12496       0.0000\n",
       "Labour Day                  17809       0.0000\n",
       "New Year's Day              30488   10790.2600"
      ]
     },
     "metadata": {},
     "output_type": "display_data"
    }
   ],
   "source": [
    "merge_traffics = pd.merge(\n",
    "    total_traffic_by_event,\n",
    "    oos_traffic_by_event,\n",
    "    on=['Event Name']\n",
    ")\n",
    "\n",
    "display(merge_traffics)"
   ]
  },
  {
   "cell_type": "markdown",
   "metadata": {},
   "source": [
    "Now the final OOS% for each event:"
   ]
  },
  {
   "cell_type": "code",
   "execution_count": 345,
   "metadata": {},
   "outputs": [],
   "source": [
    "merge_traffics[\"Event OOS%\"] =  (merge_traffics['OOS Traffic'] / merge_traffics[\"Traffic\"]) * 100\n",
    "event_oos_ranking = merge_traffics.sort_values('Event OOS%', ascending = False)"
   ]
  },
  {
   "cell_type": "code",
   "execution_count": 348,
   "metadata": {},
   "outputs": [
    {
     "data": {
      "text/html": [
       "<div>\n",
       "<style scoped>\n",
       "    .dataframe tbody tr th:only-of-type {\n",
       "        vertical-align: middle;\n",
       "    }\n",
       "\n",
       "    .dataframe tbody tr th {\n",
       "        vertical-align: top;\n",
       "    }\n",
       "\n",
       "    .dataframe thead th {\n",
       "        text-align: right;\n",
       "    }\n",
       "</style>\n",
       "<table border=\"1\" class=\"dataframe\">\n",
       "  <thead>\n",
       "    <tr style=\"text-align: right;\">\n",
       "      <th></th>\n",
       "      <th>Traffic</th>\n",
       "      <th>OOS Traffic</th>\n",
       "      <th>Event OOS%</th>\n",
       "    </tr>\n",
       "    <tr>\n",
       "      <th>Event Name</th>\n",
       "      <th></th>\n",
       "      <th></th>\n",
       "      <th></th>\n",
       "    </tr>\n",
       "  </thead>\n",
       "  <tbody>\n",
       "    <tr>\n",
       "      <th>New Year's Day</th>\n",
       "      <td>30488</td>\n",
       "      <td>10790.2600</td>\n",
       "      <td>35.39%</td>\n",
       "    </tr>\n",
       "    <tr>\n",
       "      <th>Holiday in France</th>\n",
       "      <td>26562</td>\n",
       "      <td>5787.1992</td>\n",
       "      <td>21.79%</td>\n",
       "    </tr>\n",
       "    <tr>\n",
       "      <th>Easter Monday</th>\n",
       "      <td>8504</td>\n",
       "      <td>707.2766</td>\n",
       "      <td>8.32%</td>\n",
       "    </tr>\n",
       "    <tr>\n",
       "      <th>Easter Sunday</th>\n",
       "      <td>8749</td>\n",
       "      <td>0.0000</td>\n",
       "      <td>0.00%</td>\n",
       "    </tr>\n",
       "    <tr>\n",
       "      <th>Important Meeting Invite</th>\n",
       "      <td>12496</td>\n",
       "      <td>0.0000</td>\n",
       "      <td>0.00%</td>\n",
       "    </tr>\n",
       "    <tr>\n",
       "      <th>Labour Day</th>\n",
       "      <td>17809</td>\n",
       "      <td>0.0000</td>\n",
       "      <td>0.00%</td>\n",
       "    </tr>\n",
       "  </tbody>\n",
       "</table>\n",
       "</div>"
      ],
      "text/plain": [
       "                          Traffic  OOS Traffic Event OOS%\n",
       "Event Name                                               \n",
       "New Year's Day              30488   10790.2600     35.39%\n",
       "Holiday in France           26562    5787.1992     21.79%\n",
       "Easter Monday                8504     707.2766      8.32%\n",
       "Easter Sunday                8749       0.0000      0.00%\n",
       "Important Meeting Invite    12496       0.0000      0.00%\n",
       "Labour Day                  17809       0.0000      0.00%"
      ]
     },
     "metadata": {},
     "output_type": "display_data"
    }
   ],
   "source": [
    "event_oos_ranking_formatted = event_oos_ranking.copy()\n",
    "event_oos_ranking_formatted['Event OOS%'] = event_oos_ranking_formatted['Event OOS%'].map(lambda x: f\"{x:.2f}%\")\n",
    "\n",
    "display(event_oos_ranking_formatted)"
   ]
  },
  {
   "cell_type": "markdown",
   "metadata": {},
   "source": [
    "Therefore, we see that New Year, Holiday in France, and Easter (Monday) had the highest Out of Stock %."
   ]
  },
  {
   "cell_type": "markdown",
   "metadata": {},
   "source": [
    "### Web Scrapping\n",
    "\n",
    "We will be using Beautiful Soup package for parsing html. We load the links first. The results will be written into a dictionary called data."
   ]
  },
  {
   "cell_type": "code",
   "execution_count": 291,
   "metadata": {},
   "outputs": [],
   "source": [
    "urls = [\n",
    "    \"https://www.bol.com/nl/nl/p/p/9300000173172033/?cstrackid=097b4833-0acb-43be-b23b-c5776a2ef480&Referrer=ADVNLPPcef5f300cdbf929700e4c9fb21681172446&utm_source=1172446&utm_medium=Affiliates&utm_campaign=CPS&utm_content=txl\",\n",
    "    \"https://www.bol.com/nl/nl/p/philips-3000-serie-airfryer-7-2l-na341-00/9300000186182184/?cid=1754055247154-4070853182216&bltgh=n6wwiHRTkWC9QmNaonNLzg.4_82.90.ProductTitle\",\n",
    "    \"https://www.bol.com/nl/nl/p/philips-5000-series-dual-basket-airfryer-na551-00-stoomfunctie-dubbele-mand-9l-tot-6-personen/9300000193078812/?cid=1754055520246-7150901137838&bltgh=rx0wotlCI3OAjHHzDVJH8A.4_69.74.ProductTitle\",\n",
    "    \"https://www.bol.com/nl/nl/p/philips-1000-series-na130-00-airfryer-1000-serie-6-2-liter/9300000177050952/?cid=1754055247154-4506780939805&bltgh=n6wwiHRTkWC9QmNaonNLzg.4_82.89.ProductTitle\",\n",
    "    \"https://www.bol.com/nl/nl/p/philips-oneup-elektrische-dweil-5000-series-xv5113-01-dweilsysteem-vloerreiniger/9300000199000097/?bltgh=oZLV3olgDa9seWklppJNGQ.4_20.23.ProductTitle\",\n",
    "    \"https://www.bol.com/nl/nl/p/philips-powerpro-compact-fc9331-09-stofzuiger-zonder-zak/9200000084475208/?bltgh=rc213GrXhgKMNDCpeEdB-A.6_27.30.ProductTitle\",\n",
    "    \"https://www.bol.com/nl/nl/p/philips-3000-series-compacte-en-opvouwbare-handstomer/9300000114223182/?bltgh=jK0yOUEflRmSYHqgkKREgw.4_20.23.ProductTitle\",\n",
    "    \"https://www.bol.com/nl/nl/p/philips-l-or-barista-sublime-lm9012-20-koffiecupmachine-grijs/9300000071082408/?bltgh=oEbM6VuOT7Gl2jSCHexPkw.4_20.42.ProductTitle\",\n",
    "    \"https://www.bol.com/nl/nl/p/philips-2200-serie-ep2220-10-espressomachine-zwart/9200000106983899/?bltgh=t-t1vO-SkQ1LWBBF-VVOhQ.4_20.26.ProductTitle\",\n",
    "    \"https://www.bol.com/nl/nl/p/philips-5400-series-ep5447-90-volautomatische-espressomachines/9300000006026349/?bltgh=t-t1vO-SkQ1LWBBF-VVOhQ.4_20.41.ProductTitle\",\n",
    "    \"https://www.bol.com/nl/nl/p/philips-baristina-bar300-60-espressomachine-koffiemachine-met-bonen-zwart/9300000186181869/?bltgh=oimAbJanoS6YBuoTu3ZPBA.4_19.22.ProductTitle\",\n",
    "    \"https://www.bol.com/nl/nl/p/philips-aquatrio-9000-serie-xw9383-01-steelstofzuiger-dweil/9300000126637130/?bltgh=gwfwKaqvMU8-x68--q5Hlg.4_15.20.ProductTitle\"\n",
    "]"
   ]
  },
  {
   "cell_type": "markdown",
   "metadata": {},
   "source": [
    "Next, I opened one of the links and identified the elements we need to scrape: the name of a product, the section with all specifications, the different sections inside under different subtitles, "
   ]
  },
  {
   "cell_type": "code",
   "execution_count": 293,
   "metadata": {},
   "outputs": [],
   "source": [
    "data = []\n",
    "\n",
    "for url in urls:\n",
    "    response = requests.get(url)\n",
    "    soup = BeautifulSoup(response.text, 'html.parser')\n",
    "\n",
    "    product = soup.find(\"h1\").get_text(strip = True) # product name\n",
    "\n",
    "    specs_slot = soup.find(\"section\", class_ = \"js_slot-specifications\") # section with all product specifications\n",
    "    spec_sections = specs_slot.find_all(\"div\", class_ = \"specs\") # sections per each subtitle \n",
    "\n",
    "\n",
    "    for section in spec_sections:\n",
    "        subtitle_tag = section.find(\"h3\") # subtitle of specifications\n",
    "        subtitle = subtitle_tag.get_text(strip = True) \n",
    "\n",
    "        rows = section.find_all(\"div\", class_=\"specs__row\")\n",
    "\n",
    "        for row in rows:\n",
    "\n",
    "            label = row.find(\"dt\").get_text(strip=True) # specification title\n",
    "            value = row.find(\"dd\").get_text(strip=True) # specification's value\n",
    "\n",
    "            data.append({\n",
    "                \"Product Name\": product,\n",
    "                \"Subtitle\": subtitle,\n",
    "                \"Specification\": label,\n",
    "                \"Value\": value\n",
    "            })    \n",
    "\n",
    "data_df = pd.DataFrame(data)"
   ]
  },
  {
   "cell_type": "markdown",
   "metadata": {},
   "source": [
    "Exporting the dataframe with results into an excel file:"
   ]
  },
  {
   "cell_type": "code",
   "execution_count": 294,
   "metadata": {},
   "outputs": [],
   "source": [
    "data_df.to_excel(\"bol_specs.xlsx\", index=False)"
   ]
  }
 ],
 "metadata": {
  "kernelspec": {
   "display_name": "Python 3",
   "language": "python",
   "name": "python3"
  },
  "language_info": {
   "codemirror_mode": {
    "name": "ipython",
    "version": 3
   },
   "file_extension": ".py",
   "mimetype": "text/x-python",
   "name": "python",
   "nbconvert_exporter": "python",
   "pygments_lexer": "ipython3",
   "version": "3.12.4"
  }
 },
 "nbformat": 4,
 "nbformat_minor": 2
}
